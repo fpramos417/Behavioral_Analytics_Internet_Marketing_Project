{
 "cells": [
  {
   "cell_type": "markdown",
   "metadata": {},
   "source": [
    "# Internet Marketing Project"
   ]
  },
  {
   "cell_type": "code",
   "execution_count": 275,
   "metadata": {},
   "outputs": [],
   "source": [
    "import pandas as pd\n",
    "import numpy as np\n",
    "import seaborn as sns\n",
    "import matplotlib.pyplot as plt\n",
    "%matplotlib inline \n",
    "\n",
    "from scipy import stats"
   ]
  },
  {
   "cell_type": "code",
   "execution_count": 276,
   "metadata": {},
   "outputs": [],
   "source": [
    "data = pd.read_excel('DoubleClickData.xls')"
   ]
  },
  {
   "cell_type": "code",
   "execution_count": 277,
   "metadata": {},
   "outputs": [
    {
     "name": "stdout",
     "output_type": "stream",
     "text": [
      "['Publisher ID' 'Publisher Name' 'Keyword ID' 'Keyword' 'Match Type'\n",
      " 'Campaign' 'Keyword Group' 'Category' 'Bid Strategy' 'Keyword Type'\n",
      " 'Status' 'Search Engine Bid' 'Clicks' 'Click Charges'\n",
      " 'Avg. Cost per Click' 'Impressions' 'Engine Click Thru %' 'Avg. Pos.'\n",
      " 'Trans. Conv. %' 'Total Cost/ Trans.' 'Amount' 'Total Cost'\n",
      " 'Total Volume of Bookings']\n"
     ]
    }
   ],
   "source": [
    "print(data.columns.values)"
   ]
  },
  {
   "cell_type": "code",
   "execution_count": 278,
   "metadata": {},
   "outputs": [
    {
     "data": {
      "text/html": [
       "<div>\n",
       "<style scoped>\n",
       "    .dataframe tbody tr th:only-of-type {\n",
       "        vertical-align: middle;\n",
       "    }\n",
       "\n",
       "    .dataframe tbody tr th {\n",
       "        vertical-align: top;\n",
       "    }\n",
       "\n",
       "    .dataframe thead th {\n",
       "        text-align: right;\n",
       "    }\n",
       "</style>\n",
       "<table border=\"1\" class=\"dataframe\">\n",
       "  <thead>\n",
       "    <tr style=\"text-align: right;\">\n",
       "      <th></th>\n",
       "      <th>Publisher ID</th>\n",
       "      <th>Publisher Name</th>\n",
       "      <th>Keyword ID</th>\n",
       "      <th>Keyword</th>\n",
       "      <th>Match Type</th>\n",
       "      <th>Campaign</th>\n",
       "      <th>Keyword Group</th>\n",
       "      <th>Category</th>\n",
       "      <th>Bid Strategy</th>\n",
       "      <th>Keyword Type</th>\n",
       "      <th>...</th>\n",
       "      <th>Click Charges</th>\n",
       "      <th>Avg. Cost per Click</th>\n",
       "      <th>Impressions</th>\n",
       "      <th>Engine Click Thru %</th>\n",
       "      <th>Avg. Pos.</th>\n",
       "      <th>Trans. Conv. %</th>\n",
       "      <th>Total Cost/ Trans.</th>\n",
       "      <th>Amount</th>\n",
       "      <th>Total Cost</th>\n",
       "      <th>Total Volume of Bookings</th>\n",
       "    </tr>\n",
       "  </thead>\n",
       "  <tbody>\n",
       "    <tr>\n",
       "      <th>0</th>\n",
       "      <td>K2615</td>\n",
       "      <td>Yahoo - US</td>\n",
       "      <td>43000000039657988</td>\n",
       "      <td>fly to florence</td>\n",
       "      <td>Advanced</td>\n",
       "      <td>Western Europe Destinations</td>\n",
       "      <td>Florence</td>\n",
       "      <td>uncategorized</td>\n",
       "      <td>NaN</td>\n",
       "      <td>Unassigned</td>\n",
       "      <td>...</td>\n",
       "      <td>2.3125</td>\n",
       "      <td>2.312500</td>\n",
       "      <td>11</td>\n",
       "      <td>9.090909</td>\n",
       "      <td>1.272727</td>\n",
       "      <td>900.000000</td>\n",
       "      <td>0.256944</td>\n",
       "      <td>8777.95</td>\n",
       "      <td>2.3125</td>\n",
       "      <td>9</td>\n",
       "    </tr>\n",
       "    <tr>\n",
       "      <th>1</th>\n",
       "      <td>K2615</td>\n",
       "      <td>Yahoo - US</td>\n",
       "      <td>43000000039651113</td>\n",
       "      <td>low international airfare</td>\n",
       "      <td>Advanced</td>\n",
       "      <td>Geo Targeted DC</td>\n",
       "      <td>Low International DC</td>\n",
       "      <td>uncategorized</td>\n",
       "      <td>NaN</td>\n",
       "      <td>Unassigned</td>\n",
       "      <td>...</td>\n",
       "      <td>0.6250</td>\n",
       "      <td>0.625000</td>\n",
       "      <td>6</td>\n",
       "      <td>16.666667</td>\n",
       "      <td>1.000000</td>\n",
       "      <td>100.000000</td>\n",
       "      <td>0.625000</td>\n",
       "      <td>1574.20</td>\n",
       "      <td>0.6250</td>\n",
       "      <td>1</td>\n",
       "    </tr>\n",
       "    <tr>\n",
       "      <th>2</th>\n",
       "      <td>K2003</td>\n",
       "      <td>MSN - Global</td>\n",
       "      <td>43000000019452431</td>\n",
       "      <td>air discount france ticket</td>\n",
       "      <td>Broad</td>\n",
       "      <td>Air France Brand &amp; French Destinations</td>\n",
       "      <td>France</td>\n",
       "      <td>uncategorized</td>\n",
       "      <td>Position 2-5 Bid Strategy</td>\n",
       "      <td>Unassigned</td>\n",
       "      <td>...</td>\n",
       "      <td>0.3875</td>\n",
       "      <td>0.387500</td>\n",
       "      <td>9</td>\n",
       "      <td>11.111111</td>\n",
       "      <td>1.111111</td>\n",
       "      <td>100.000000</td>\n",
       "      <td>0.387500</td>\n",
       "      <td>390.15</td>\n",
       "      <td>0.3875</td>\n",
       "      <td>1</td>\n",
       "    </tr>\n",
       "    <tr>\n",
       "      <th>3</th>\n",
       "      <td>K1175</td>\n",
       "      <td>Google - Global</td>\n",
       "      <td>43000000005663331</td>\n",
       "      <td>[airfrance]</td>\n",
       "      <td>Exact</td>\n",
       "      <td>Air France Global Campaign</td>\n",
       "      <td>Air France</td>\n",
       "      <td>airfrance</td>\n",
       "      <td>Position 1- 3</td>\n",
       "      <td>Unassigned</td>\n",
       "      <td>...</td>\n",
       "      <td>2.3125</td>\n",
       "      <td>0.039195</td>\n",
       "      <td>401</td>\n",
       "      <td>14.713217</td>\n",
       "      <td>2.000000</td>\n",
       "      <td>3.389831</td>\n",
       "      <td>1.156250</td>\n",
       "      <td>1665.15</td>\n",
       "      <td>2.3125</td>\n",
       "      <td>2</td>\n",
       "    </tr>\n",
       "    <tr>\n",
       "      <th>4</th>\n",
       "      <td>K1123</td>\n",
       "      <td>Overture - Global</td>\n",
       "      <td>43000000005421354</td>\n",
       "      <td>air france online booking</td>\n",
       "      <td>Standard</td>\n",
       "      <td>Unassigned</td>\n",
       "      <td>Unassigned</td>\n",
       "      <td>airfrance</td>\n",
       "      <td>Position 1-2 Target</td>\n",
       "      <td>Unassigned</td>\n",
       "      <td>...</td>\n",
       "      <td>2.2000</td>\n",
       "      <td>0.275000</td>\n",
       "      <td>318</td>\n",
       "      <td>2.515723</td>\n",
       "      <td>2.975786</td>\n",
       "      <td>12.500000</td>\n",
       "      <td>2.200000</td>\n",
       "      <td>935.00</td>\n",
       "      <td>2.2000</td>\n",
       "      <td>1</td>\n",
       "    </tr>\n",
       "  </tbody>\n",
       "</table>\n",
       "<p>5 rows × 23 columns</p>\n",
       "</div>"
      ],
      "text/plain": [
       "  Publisher ID     Publisher Name         Keyword ID  \\\n",
       "0        K2615         Yahoo - US  43000000039657988   \n",
       "1        K2615         Yahoo - US  43000000039651113   \n",
       "2        K2003       MSN - Global  43000000019452431   \n",
       "3        K1175    Google - Global  43000000005663331   \n",
       "4        K1123  Overture - Global  43000000005421354   \n",
       "\n",
       "                      Keyword Match Type  \\\n",
       "0             fly to florence   Advanced   \n",
       "1   low international airfare   Advanced   \n",
       "2  air discount france ticket      Broad   \n",
       "3                 [airfrance]      Exact   \n",
       "4   air france online booking   Standard   \n",
       "\n",
       "                                 Campaign         Keyword Group  \\\n",
       "0             Western Europe Destinations              Florence   \n",
       "1                         Geo Targeted DC  Low International DC   \n",
       "2  Air France Brand & French Destinations                France   \n",
       "3              Air France Global Campaign            Air France   \n",
       "4                              Unassigned            Unassigned   \n",
       "\n",
       "        Category               Bid Strategy Keyword Type  ... Click Charges  \\\n",
       "0  uncategorized                        NaN   Unassigned  ...        2.3125   \n",
       "1  uncategorized                        NaN   Unassigned  ...        0.6250   \n",
       "2  uncategorized  Position 2-5 Bid Strategy   Unassigned  ...        0.3875   \n",
       "3      airfrance              Position 1- 3   Unassigned  ...        2.3125   \n",
       "4      airfrance        Position 1-2 Target   Unassigned  ...        2.2000   \n",
       "\n",
       "   Avg. Cost per Click  Impressions  Engine Click Thru %  Avg. Pos.  \\\n",
       "0             2.312500           11             9.090909   1.272727   \n",
       "1             0.625000            6            16.666667   1.000000   \n",
       "2             0.387500            9            11.111111   1.111111   \n",
       "3             0.039195          401            14.713217   2.000000   \n",
       "4             0.275000          318             2.515723   2.975786   \n",
       "\n",
       "   Trans. Conv. %  Total Cost/ Trans.   Amount  Total Cost  \\\n",
       "0      900.000000            0.256944  8777.95      2.3125   \n",
       "1      100.000000            0.625000  1574.20      0.6250   \n",
       "2      100.000000            0.387500   390.15      0.3875   \n",
       "3        3.389831            1.156250  1665.15      2.3125   \n",
       "4       12.500000            2.200000   935.00      2.2000   \n",
       "\n",
       "   Total Volume of Bookings  \n",
       "0                         9  \n",
       "1                         1  \n",
       "2                         1  \n",
       "3                         2  \n",
       "4                         1  \n",
       "\n",
       "[5 rows x 23 columns]"
      ]
     },
     "execution_count": 278,
     "metadata": {},
     "output_type": "execute_result"
    }
   ],
   "source": [
    "data.head()"
   ]
  },
  {
   "cell_type": "code",
   "execution_count": 279,
   "metadata": {},
   "outputs": [
    {
     "name": "stdout",
     "output_type": "stream",
     "text": [
      "<class 'pandas.core.frame.DataFrame'>\n",
      "RangeIndex: 4510 entries, 0 to 4509\n",
      "Data columns (total 23 columns):\n",
      " #   Column                    Non-Null Count  Dtype  \n",
      "---  ------                    --------------  -----  \n",
      " 0   Publisher ID              4510 non-null   object \n",
      " 1   Publisher Name            4510 non-null   object \n",
      " 2   Keyword ID                4510 non-null   int64  \n",
      " 3   Keyword                   4510 non-null   object \n",
      " 4   Match Type                4462 non-null   object \n",
      " 5   Campaign                  4510 non-null   object \n",
      " 6   Keyword Group             4510 non-null   object \n",
      " 7   Category                  4510 non-null   object \n",
      " 8   Bid Strategy              3286 non-null   object \n",
      " 9   Keyword Type              4510 non-null   object \n",
      " 10  Status                    4510 non-null   object \n",
      " 11  Search Engine Bid         4510 non-null   float64\n",
      " 12  Clicks                    4510 non-null   int64  \n",
      " 13  Click Charges             4510 non-null   float64\n",
      " 14  Avg. Cost per Click       4510 non-null   float64\n",
      " 15  Impressions               4510 non-null   int64  \n",
      " 16  Engine Click Thru %       4510 non-null   float64\n",
      " 17  Avg. Pos.                 4510 non-null   float64\n",
      " 18  Trans. Conv. %            4510 non-null   float64\n",
      " 19  Total Cost/ Trans.        4510 non-null   float64\n",
      " 20  Amount                    4510 non-null   float64\n",
      " 21  Total Cost                4510 non-null   float64\n",
      " 22  Total Volume of Bookings  4510 non-null   int64  \n",
      "dtypes: float64(9), int64(4), object(10)\n",
      "memory usage: 810.5+ KB\n"
     ]
    }
   ],
   "source": [
    "data.info()"
   ]
  },
  {
   "cell_type": "code",
   "execution_count": 280,
   "metadata": {},
   "outputs": [],
   "source": [
    "data['Net Revenue'] = data['Amount']-data['Total Cost']"
   ]
  },
  {
   "cell_type": "code",
   "execution_count": 281,
   "metadata": {},
   "outputs": [],
   "source": [
    "data['Probability of Booking'] = data['Engine Click Thru %']*data['Trans. Conv. %']/10000"
   ]
  },
  {
   "cell_type": "code",
   "execution_count": 282,
   "metadata": {},
   "outputs": [],
   "source": [
    "data.loc[data['Total Cost'] == 0, 'ROA'] = 0\n",
    "data.loc[data['Total Cost'] != 0, 'ROA'] = data['Net Revenue']/data['Total Cost']*100"
   ]
  },
  {
   "cell_type": "code",
   "execution_count": 283,
   "metadata": {},
   "outputs": [
    {
     "data": {
      "text/plain": [
       "0    379487.027027\n",
       "1    251772.000000\n",
       "2    100583.870968\n",
       "3     71906.491546\n",
       "4     42400.000000\n",
       "Name: ROA, dtype: float64"
      ]
     },
     "execution_count": 283,
     "metadata": {},
     "output_type": "execute_result"
    }
   ],
   "source": [
    "data['ROA'].head()"
   ]
  },
  {
   "cell_type": "code",
   "execution_count": 284,
   "metadata": {},
   "outputs": [],
   "source": [
    "data.loc[data['Total Volume of Bookings'] == 0, 'Avg Revenue per Booking'] = None\n",
    "data.loc[data['Total Volume of Bookings'] != 0, 'Avg Revenue per Booking'] = data['Amount']/data['Total Volume of Bookings']"
   ]
  },
  {
   "cell_type": "code",
   "execution_count": 285,
   "metadata": {},
   "outputs": [
    {
     "data": {
      "text/plain": [
       "0        975.327778\n",
       "1       1574.200000\n",
       "2        390.150000\n",
       "3        832.575000\n",
       "4        935.000000\n",
       "           ...     \n",
       "4505            NaN\n",
       "4506            NaN\n",
       "4507            NaN\n",
       "4508            NaN\n",
       "4509            NaN\n",
       "Name: Avg Revenue per Booking, Length: 4510, dtype: float64"
      ]
     },
     "execution_count": 285,
     "metadata": {},
     "output_type": "execute_result"
    }
   ],
   "source": [
    "data['Avg Revenue per Booking']"
   ]
  },
  {
   "cell_type": "code",
   "execution_count": 286,
   "metadata": {},
   "outputs": [
    {
     "data": {
      "text/plain": [
       "4510"
      ]
     },
     "execution_count": 286,
     "metadata": {},
     "output_type": "execute_result"
    }
   ],
   "source": [
    "data['Avg Revenue per Booking'].isnull().count()"
   ]
  },
  {
   "cell_type": "code",
   "execution_count": 287,
   "metadata": {},
   "outputs": [
    {
     "data": {
      "text/html": [
       "<div>\n",
       "<style scoped>\n",
       "    .dataframe tbody tr th:only-of-type {\n",
       "        vertical-align: middle;\n",
       "    }\n",
       "\n",
       "    .dataframe tbody tr th {\n",
       "        vertical-align: top;\n",
       "    }\n",
       "\n",
       "    .dataframe thead th {\n",
       "        text-align: right;\n",
       "    }\n",
       "</style>\n",
       "<table border=\"1\" class=\"dataframe\">\n",
       "  <thead>\n",
       "    <tr style=\"text-align: right;\">\n",
       "      <th></th>\n",
       "      <th>Publisher ID</th>\n",
       "      <th>Publisher Name</th>\n",
       "      <th>Keyword ID</th>\n",
       "      <th>Keyword</th>\n",
       "      <th>Match Type</th>\n",
       "      <th>Campaign</th>\n",
       "      <th>Keyword Group</th>\n",
       "      <th>Category</th>\n",
       "      <th>Bid Strategy</th>\n",
       "      <th>Keyword Type</th>\n",
       "      <th>...</th>\n",
       "      <th>Avg. Pos.</th>\n",
       "      <th>Trans. Conv. %</th>\n",
       "      <th>Total Cost/ Trans.</th>\n",
       "      <th>Amount</th>\n",
       "      <th>Total Cost</th>\n",
       "      <th>Total Volume of Bookings</th>\n",
       "      <th>Net Revenue</th>\n",
       "      <th>Probability of Booking</th>\n",
       "      <th>ROA</th>\n",
       "      <th>Avg Revenue per Booking</th>\n",
       "    </tr>\n",
       "  </thead>\n",
       "  <tbody>\n",
       "    <tr>\n",
       "      <th>0</th>\n",
       "      <td>K2615</td>\n",
       "      <td>Yahoo - US</td>\n",
       "      <td>43000000039657988</td>\n",
       "      <td>fly to florence</td>\n",
       "      <td>Advanced</td>\n",
       "      <td>Western Europe Destinations</td>\n",
       "      <td>Florence</td>\n",
       "      <td>uncategorized</td>\n",
       "      <td>NaN</td>\n",
       "      <td>Unassigned</td>\n",
       "      <td>...</td>\n",
       "      <td>1.272727</td>\n",
       "      <td>900.000000</td>\n",
       "      <td>0.256944</td>\n",
       "      <td>8777.95</td>\n",
       "      <td>2.3125</td>\n",
       "      <td>9</td>\n",
       "      <td>8775.6375</td>\n",
       "      <td>0.818182</td>\n",
       "      <td>379487.027027</td>\n",
       "      <td>975.327778</td>\n",
       "    </tr>\n",
       "    <tr>\n",
       "      <th>1</th>\n",
       "      <td>K2615</td>\n",
       "      <td>Yahoo - US</td>\n",
       "      <td>43000000039651113</td>\n",
       "      <td>low international airfare</td>\n",
       "      <td>Advanced</td>\n",
       "      <td>Geo Targeted DC</td>\n",
       "      <td>Low International DC</td>\n",
       "      <td>uncategorized</td>\n",
       "      <td>NaN</td>\n",
       "      <td>Unassigned</td>\n",
       "      <td>...</td>\n",
       "      <td>1.000000</td>\n",
       "      <td>100.000000</td>\n",
       "      <td>0.625000</td>\n",
       "      <td>1574.20</td>\n",
       "      <td>0.6250</td>\n",
       "      <td>1</td>\n",
       "      <td>1573.5750</td>\n",
       "      <td>0.166667</td>\n",
       "      <td>251772.000000</td>\n",
       "      <td>1574.200000</td>\n",
       "    </tr>\n",
       "    <tr>\n",
       "      <th>2</th>\n",
       "      <td>K2003</td>\n",
       "      <td>MSN - Global</td>\n",
       "      <td>43000000019452431</td>\n",
       "      <td>air discount france ticket</td>\n",
       "      <td>Broad</td>\n",
       "      <td>Air France Brand &amp; French Destinations</td>\n",
       "      <td>France</td>\n",
       "      <td>uncategorized</td>\n",
       "      <td>Position 2-5 Bid Strategy</td>\n",
       "      <td>Unassigned</td>\n",
       "      <td>...</td>\n",
       "      <td>1.111111</td>\n",
       "      <td>100.000000</td>\n",
       "      <td>0.387500</td>\n",
       "      <td>390.15</td>\n",
       "      <td>0.3875</td>\n",
       "      <td>1</td>\n",
       "      <td>389.7625</td>\n",
       "      <td>0.111111</td>\n",
       "      <td>100583.870968</td>\n",
       "      <td>390.150000</td>\n",
       "    </tr>\n",
       "    <tr>\n",
       "      <th>3</th>\n",
       "      <td>K1175</td>\n",
       "      <td>Google - Global</td>\n",
       "      <td>43000000005663331</td>\n",
       "      <td>[airfrance]</td>\n",
       "      <td>Exact</td>\n",
       "      <td>Air France Global Campaign</td>\n",
       "      <td>Air France</td>\n",
       "      <td>airfrance</td>\n",
       "      <td>Position 1- 3</td>\n",
       "      <td>Unassigned</td>\n",
       "      <td>...</td>\n",
       "      <td>2.000000</td>\n",
       "      <td>3.389831</td>\n",
       "      <td>1.156250</td>\n",
       "      <td>1665.15</td>\n",
       "      <td>2.3125</td>\n",
       "      <td>2</td>\n",
       "      <td>1662.8375</td>\n",
       "      <td>0.004988</td>\n",
       "      <td>71906.491546</td>\n",
       "      <td>832.575000</td>\n",
       "    </tr>\n",
       "    <tr>\n",
       "      <th>4</th>\n",
       "      <td>K1123</td>\n",
       "      <td>Overture - Global</td>\n",
       "      <td>43000000005421354</td>\n",
       "      <td>air france online booking</td>\n",
       "      <td>Standard</td>\n",
       "      <td>Unassigned</td>\n",
       "      <td>Unassigned</td>\n",
       "      <td>airfrance</td>\n",
       "      <td>Position 1-2 Target</td>\n",
       "      <td>Unassigned</td>\n",
       "      <td>...</td>\n",
       "      <td>2.975786</td>\n",
       "      <td>12.500000</td>\n",
       "      <td>2.200000</td>\n",
       "      <td>935.00</td>\n",
       "      <td>2.2000</td>\n",
       "      <td>1</td>\n",
       "      <td>932.8000</td>\n",
       "      <td>0.003145</td>\n",
       "      <td>42400.000000</td>\n",
       "      <td>935.000000</td>\n",
       "    </tr>\n",
       "  </tbody>\n",
       "</table>\n",
       "<p>5 rows × 27 columns</p>\n",
       "</div>"
      ],
      "text/plain": [
       "  Publisher ID     Publisher Name         Keyword ID  \\\n",
       "0        K2615         Yahoo - US  43000000039657988   \n",
       "1        K2615         Yahoo - US  43000000039651113   \n",
       "2        K2003       MSN - Global  43000000019452431   \n",
       "3        K1175    Google - Global  43000000005663331   \n",
       "4        K1123  Overture - Global  43000000005421354   \n",
       "\n",
       "                      Keyword Match Type  \\\n",
       "0             fly to florence   Advanced   \n",
       "1   low international airfare   Advanced   \n",
       "2  air discount france ticket      Broad   \n",
       "3                 [airfrance]      Exact   \n",
       "4   air france online booking   Standard   \n",
       "\n",
       "                                 Campaign         Keyword Group  \\\n",
       "0             Western Europe Destinations              Florence   \n",
       "1                         Geo Targeted DC  Low International DC   \n",
       "2  Air France Brand & French Destinations                France   \n",
       "3              Air France Global Campaign            Air France   \n",
       "4                              Unassigned            Unassigned   \n",
       "\n",
       "        Category               Bid Strategy Keyword Type  ... Avg. Pos.  \\\n",
       "0  uncategorized                        NaN   Unassigned  ...  1.272727   \n",
       "1  uncategorized                        NaN   Unassigned  ...  1.000000   \n",
       "2  uncategorized  Position 2-5 Bid Strategy   Unassigned  ...  1.111111   \n",
       "3      airfrance              Position 1- 3   Unassigned  ...  2.000000   \n",
       "4      airfrance        Position 1-2 Target   Unassigned  ...  2.975786   \n",
       "\n",
       "   Trans. Conv. %  Total Cost/ Trans.   Amount  Total Cost  \\\n",
       "0      900.000000            0.256944  8777.95      2.3125   \n",
       "1      100.000000            0.625000  1574.20      0.6250   \n",
       "2      100.000000            0.387500   390.15      0.3875   \n",
       "3        3.389831            1.156250  1665.15      2.3125   \n",
       "4       12.500000            2.200000   935.00      2.2000   \n",
       "\n",
       "   Total Volume of Bookings  Net Revenue  Probability of Booking  \\\n",
       "0                         9    8775.6375                0.818182   \n",
       "1                         1    1573.5750                0.166667   \n",
       "2                         1     389.7625                0.111111   \n",
       "3                         2    1662.8375                0.004988   \n",
       "4                         1     932.8000                0.003145   \n",
       "\n",
       "             ROA  Avg Revenue per Booking  \n",
       "0  379487.027027               975.327778  \n",
       "1  251772.000000              1574.200000  \n",
       "2  100583.870968               390.150000  \n",
       "3   71906.491546               832.575000  \n",
       "4   42400.000000               935.000000  \n",
       "\n",
       "[5 rows x 27 columns]"
      ]
     },
     "execution_count": 287,
     "metadata": {},
     "output_type": "execute_result"
    }
   ],
   "source": [
    "data.head()"
   ]
  },
  {
   "cell_type": "code",
   "execution_count": 288,
   "metadata": {},
   "outputs": [
    {
     "data": {
      "text/plain": [
       "<matplotlib.axes._subplots.AxesSubplot at 0x1f131e3eca0>"
      ]
     },
     "execution_count": 288,
     "metadata": {},
     "output_type": "execute_result"
    },
    {
     "data": {
      "image/png": "[encoded data removed]",
      "text/plain": [
       "<Figure size 432x288 with 1 Axes>"
      ]
     },
     "metadata": {
      "needs_background": "light"
     },
     "output_type": "display_data"
    }
   ],
   "source": [
    "sns.heatmap(data.isnull(),yticklabels = False, cbar = False, cmap = 'viridis')"
   ]
  },
  {
   "cell_type": "markdown",
   "metadata": {},
   "source": [
    "### Exploratory Analysis"
   ]
  },
  {
   "cell_type": "code",
   "execution_count": 289,
   "metadata": {},
   "outputs": [
    {
     "data": {
      "text/html": [
       "<div>\n",
       "<style scoped>\n",
       "    .dataframe tbody tr th:only-of-type {\n",
       "        vertical-align: middle;\n",
       "    }\n",
       "\n",
       "    .dataframe tbody tr th {\n",
       "        vertical-align: top;\n",
       "    }\n",
       "\n",
       "    .dataframe thead th {\n",
       "        text-align: right;\n",
       "    }\n",
       "</style>\n",
       "<table border=\"1\" class=\"dataframe\">\n",
       "  <thead>\n",
       "    <tr style=\"text-align: right;\">\n",
       "      <th></th>\n",
       "      <th>Engine Click Thru %</th>\n",
       "      <th>Trans. Conv. %</th>\n",
       "      <th>Net Revenue</th>\n",
       "      <th>Avg. Cost per Click</th>\n",
       "      <th>ROA</th>\n",
       "      <th>Avg Revenue per Booking</th>\n",
       "      <th>Probability of Booking</th>\n",
       "    </tr>\n",
       "  </thead>\n",
       "  <tbody>\n",
       "    <tr>\n",
       "      <th>count</th>\n",
       "      <td>4510.000000</td>\n",
       "      <td>4510.000000</td>\n",
       "      <td>4510.000000</td>\n",
       "      <td>4510.000000</td>\n",
       "      <td>4510.000000</td>\n",
       "      <td>368.000000</td>\n",
       "      <td>4510.000000</td>\n",
       "    </tr>\n",
       "    <tr>\n",
       "      <th>mean</th>\n",
       "      <td>11.141451</td>\n",
       "      <td>0.569255</td>\n",
       "      <td>866.207678</td>\n",
       "      <td>1.890240</td>\n",
       "      <td>341.413864</td>\n",
       "      <td>1024.259502</td>\n",
       "      <td>0.000681</td>\n",
       "    </tr>\n",
       "    <tr>\n",
       "      <th>std</th>\n",
       "      <td>20.234582</td>\n",
       "      <td>13.862485</td>\n",
       "      <td>14246.298903</td>\n",
       "      <td>1.322375</td>\n",
       "      <td>7277.915278</td>\n",
       "      <td>704.318741</td>\n",
       "      <td>0.015151</td>\n",
       "    </tr>\n",
       "    <tr>\n",
       "      <th>min</th>\n",
       "      <td>0.000000</td>\n",
       "      <td>0.000000</td>\n",
       "      <td>-8725.924987</td>\n",
       "      <td>0.000000</td>\n",
       "      <td>-100.000000</td>\n",
       "      <td>34.000000</td>\n",
       "      <td>0.000000</td>\n",
       "    </tr>\n",
       "    <tr>\n",
       "      <th>25%</th>\n",
       "      <td>1.531681</td>\n",
       "      <td>0.000000</td>\n",
       "      <td>-18.871875</td>\n",
       "      <td>0.825000</td>\n",
       "      <td>-100.000000</td>\n",
       "      <td>562.912500</td>\n",
       "      <td>0.000000</td>\n",
       "    </tr>\n",
       "    <tr>\n",
       "      <th>50%</th>\n",
       "      <td>4.105614</td>\n",
       "      <td>0.000000</td>\n",
       "      <td>-4.987500</td>\n",
       "      <td>1.650493</td>\n",
       "      <td>-100.000000</td>\n",
       "      <td>899.725000</td>\n",
       "      <td>0.000000</td>\n",
       "    </tr>\n",
       "    <tr>\n",
       "      <th>75%</th>\n",
       "      <td>10.916928</td>\n",
       "      <td>0.000000</td>\n",
       "      <td>-1.600000</td>\n",
       "      <td>2.662500</td>\n",
       "      <td>-100.000000</td>\n",
       "      <td>1277.975000</td>\n",
       "      <td>0.000000</td>\n",
       "    </tr>\n",
       "    <tr>\n",
       "      <th>max</th>\n",
       "      <td>200.000000</td>\n",
       "      <td>900.000000</td>\n",
       "      <td>549524.050273</td>\n",
       "      <td>10.000000</td>\n",
       "      <td>379487.027027</td>\n",
       "      <td>5877.750000</td>\n",
       "      <td>0.818182</td>\n",
       "    </tr>\n",
       "  </tbody>\n",
       "</table>\n",
       "</div>"
      ],
      "text/plain": [
       "       Engine Click Thru %  Trans. Conv. %    Net Revenue  \\\n",
       "count          4510.000000     4510.000000    4510.000000   \n",
       "mean             11.141451        0.569255     866.207678   \n",
       "std              20.234582       13.862485   14246.298903   \n",
       "min               0.000000        0.000000   -8725.924987   \n",
       "25%               1.531681        0.000000     -18.871875   \n",
       "50%               4.105614        0.000000      -4.987500   \n",
       "75%              10.916928        0.000000      -1.600000   \n",
       "max             200.000000      900.000000  549524.050273   \n",
       "\n",
       "       Avg. Cost per Click            ROA  Avg Revenue per Booking  \\\n",
       "count          4510.000000    4510.000000               368.000000   \n",
       "mean              1.890240     341.413864              1024.259502   \n",
       "std               1.322375    7277.915278               704.318741   \n",
       "min               0.000000    -100.000000                34.000000   \n",
       "25%               0.825000    -100.000000               562.912500   \n",
       "50%               1.650493    -100.000000               899.725000   \n",
       "75%               2.662500    -100.000000              1277.975000   \n",
       "max              10.000000  379487.027027              5877.750000   \n",
       "\n",
       "       Probability of Booking  \n",
       "count             4510.000000  \n",
       "mean                 0.000681  \n",
       "std                  0.015151  \n",
       "min                  0.000000  \n",
       "25%                  0.000000  \n",
       "50%                  0.000000  \n",
       "75%                  0.000000  \n",
       "max                  0.818182  "
      ]
     },
     "execution_count": 289,
     "metadata": {},
     "output_type": "execute_result"
    }
   ],
   "source": [
    "data[[\"Engine Click Thru %\", \"Trans. Conv. %\", \"Net Revenue\", \"Avg. Cost per Click\", \"ROA\", \"Avg Revenue per Booking\", \"Probability of Booking\"]].describe()"
   ]
  },
  {
   "cell_type": "markdown",
   "metadata": {},
   "source": [
    "This statistical summary highlights that 75% of our Net Revenue data is -1.60. 25% of our Net Revenue data is -18.87. Therefore, we can infer that publishers are overall experiencing losses. The standard deviation of the Net Revenue data is 14246.30, which is almost double of our mean. This suggests that data is widely distributed. \n",
    "\n",
    "The Average Revenue per Booking is 1024.23, which is an overall gain for the publishers. The Average Probability of Booking is 0.007%, which is very low. The highest probability of booking is about 0.818%. It would be beneficial for the publishers to look closer at why the probability of booking is low. This insight will guide them to increase their performance. \n",
    "\n",
    "The Average Cost per Click is 1.89, which is low compared to the max of 10.00 however not far off from the majority of the transactions, 75% of which are less than 2.66. This average cost of clicks should be a focus point for marketers to reduce. The mean is slightly higher than the median, which means that data distribution is skewed. \n",
    "\n",
    "The Average Engine Click Thru % is 11.14, which is only slightly above the 75% percentile marker of 10.92. The standard deviation is higher than the mean, which suggests that data is widely distributed. Since the mean is almost double of the median, data is skewed.\n",
    "\n",
    "From looking at this data and comparing the mean against the percentiles and maximum values, it looks like we might have some outliers in Engine Click Thru %, Trans. Conv %, and Avg. Cost per Click.\n"
   ]
  },
  {
   "cell_type": "code",
   "execution_count": 290,
   "metadata": {},
   "outputs": [
    {
     "name": "stderr",
     "output_type": "stream",
     "text": [
      "C:\\Users\\ferna\\anaconda3\\lib\\site-packages\\pandas\\core\\series.py:679: RuntimeWarning: invalid value encountered in log\n",
      "  result = getattr(ufunc, method)(*inputs, **kwargs)\n"
     ]
    },
    {
     "data": {
      "text/plain": [
       "<matplotlib.axes._subplots.AxesSubplot at 0x1f13c324130>"
      ]
     },
     "execution_count": 290,
     "metadata": {},
     "output_type": "execute_result"
    },
    {
     "data": {
      "image/png": "[encoded data removed]",
      "text/plain": [
       "<Figure size 720x1440 with 1 Axes>"
      ]
     },
     "metadata": {
      "needs_background": "light"
     },
     "output_type": "display_data"
    }
   ],
   "source": [
    "plt.figure(figsize = (10,20))\n",
    "a = np.log(data['Net Revenue']) \n",
    "    # We calculate log of Net Revenue to visualize the distribution of our data \n",
    "    # We do not use log of Net Revenue in any other calcualtions of our project\n",
    "sns.boxplot(y=a, data = data)"
   ]
  },
  {
   "cell_type": "markdown",
   "metadata": {},
   "source": [
    "Net Revenue has a significant number of outliers"
   ]
  },
  {
   "cell_type": "code",
   "execution_count": 291,
   "metadata": {},
   "outputs": [
    {
     "data": {
      "text/plain": [
       "array([[<matplotlib.axes._subplots.AxesSubplot object at 0x000001F13C258D90>]],\n",
       "      dtype=object)"
      ]
     },
     "execution_count": 291,
     "metadata": {},
     "output_type": "execute_result"
    },
    {
     "data": {
      "image/png": "[encoded data removed]",
      "text/plain": [
       "<Figure size 432x288 with 1 Axes>"
      ]
     },
     "metadata": {
      "needs_background": "light"
     },
     "output_type": "display_data"
    }
   ],
   "source": [
    "data.hist('Net Revenue')"
   ]
  },
  {
   "cell_type": "markdown",
   "metadata": {},
   "source": [
    "A great part of Net Revenue falls into the range of 0 and 100000"
   ]
  },
  {
   "cell_type": "code",
   "execution_count": 292,
   "metadata": {},
   "outputs": [
    {
     "data": {
      "text/plain": [
       "<matplotlib.axes._subplots.AxesSubplot at 0x1f13c2cc280>"
      ]
     },
     "execution_count": 292,
     "metadata": {},
     "output_type": "execute_result"
    },
    {
     "data": {
      "image/png": "[encoded data removed]",
      "text/plain": [
       "<Figure size 432x288 with 1 Axes>"
      ]
     },
     "metadata": {
      "needs_background": "light"
     },
     "output_type": "display_data"
    }
   ],
   "source": [
    "data.groupby('Publisher Name')['Net Revenue'].sum().plot(kind='bar')"
   ]
  },
  {
   "cell_type": "markdown",
   "metadata": {},
   "source": [
    "Google - US has the most amount of Net Revenue. MSN - Global has the least amount of Net Revenue."
   ]
  },
  {
   "cell_type": "code",
   "execution_count": 293,
   "metadata": {},
   "outputs": [
    {
     "data": {
      "text/plain": [
       "array([[<matplotlib.axes._subplots.AxesSubplot object at 0x000001F13C371820>]],\n",
       "      dtype=object)"
      ]
     },
     "execution_count": 293,
     "metadata": {},
     "output_type": "execute_result"
    },
    {
     "data": {
      "image/png": "[encoded data removed]",
      "text/plain": [
       "<Figure size 432x288 with 1 Axes>"
      ]
     },
     "metadata": {
      "needs_background": "light"
     },
     "output_type": "display_data"
    }
   ],
   "source": [
    "data.hist('Avg. Cost per Click')"
   ]
  },
  {
   "cell_type": "markdown",
   "metadata": {},
   "source": [
    "The lower number of clicks, the higher the cost per click. One click is the most common observation."
   ]
  },
  {
   "cell_type": "code",
   "execution_count": 294,
   "metadata": {},
   "outputs": [
    {
     "data": {
      "text/plain": [
       "<matplotlib.axes._subplots.AxesSubplot at 0x1f13cb90460>"
      ]
     },
     "execution_count": 294,
     "metadata": {},
     "output_type": "execute_result"
    },
    {
     "data": {
      "image/png": "[encoded data removed]",
      "text/plain": [
       "<Figure size 720x1440 with 1 Axes>"
      ]
     },
     "metadata": {
      "needs_background": "light"
     },
     "output_type": "display_data"
    }
   ],
   "source": [
    "plt.figure(figsize=(10,20))  \n",
    "sns.boxplot(y= data['Avg. Cost per Click']) "
   ]
  },
  {
   "cell_type": "markdown",
   "metadata": {},
   "source": [
    "Avg. Cost per click has a significant number of outliers."
   ]
  },
  {
   "cell_type": "code",
   "execution_count": 295,
   "metadata": {},
   "outputs": [
    {
     "data": {
      "text/plain": [
       "<matplotlib.axes._subplots.AxesSubplot at 0x1f13cbe3100>"
      ]
     },
     "execution_count": 295,
     "metadata": {},
     "output_type": "execute_result"
    },
    {
     "data": {
      "image/png": "[encoded data removed]",
      "text/plain": [
       "<Figure size 432x288 with 1 Axes>"
      ]
     },
     "metadata": {
      "needs_background": "light"
     },
     "output_type": "display_data"
    }
   ],
   "source": [
    "data.groupby('Publisher Name')['Avg. Cost per Click'].sum().plot(kind='bar')"
   ]
  },
  {
   "cell_type": "markdown",
   "metadata": {},
   "source": [
    "Google - US has the highest average cost per click. MSN - Global has the lowest average cost per click. "
   ]
  },
  {
   "cell_type": "code",
   "execution_count": 296,
   "metadata": {},
   "outputs": [
    {
     "data": {
      "text/plain": [
       "array([[<matplotlib.axes._subplots.AxesSubplot object at 0x000001F13CEE4D30>]],\n",
       "      dtype=object)"
      ]
     },
     "execution_count": 296,
     "metadata": {},
     "output_type": "execute_result"
    },
    {
     "data": {
      "image/png": "[encoded data removed]",
      "text/plain": [
       "<Figure size 432x288 with 1 Axes>"
      ]
     },
     "metadata": {
      "needs_background": "light"
     },
     "output_type": "display_data"
    }
   ],
   "source": [
    "data.hist('ROA')"
   ]
  },
  {
   "cell_type": "markdown",
   "metadata": {},
   "source": [
    "Data for ROA is concentrated in the range of 0 and 500. "
   ]
  },
  {
   "cell_type": "code",
   "execution_count": 297,
   "metadata": {},
   "outputs": [
    {
     "name": "stderr",
     "output_type": "stream",
     "text": [
      "C:\\Users\\ferna\\anaconda3\\lib\\site-packages\\pandas\\core\\series.py:679: RuntimeWarning: divide by zero encountered in log\n",
      "  result = getattr(ufunc, method)(*inputs, **kwargs)\n",
      "C:\\Users\\ferna\\anaconda3\\lib\\site-packages\\pandas\\core\\series.py:679: RuntimeWarning: invalid value encountered in log\n",
      "  result = getattr(ufunc, method)(*inputs, **kwargs)\n"
     ]
    },
    {
     "data": {
      "text/plain": [
       "<matplotlib.axes._subplots.AxesSubplot at 0x1f13cb7b730>"
      ]
     },
     "execution_count": 297,
     "metadata": {},
     "output_type": "execute_result"
    },
    {
     "data": {
      "image/png": "[encoded data removed]",
      "text/plain": [
       "<Figure size 720x1440 with 1 Axes>"
      ]
     },
     "metadata": {
      "needs_background": "light"
     },
     "output_type": "display_data"
    }
   ],
   "source": [
    "plt.figure(figsize=(10,20))  \n",
    "a= np.log(data['ROA'])\n",
    "    # We calculate log of ROA to visualize the distribution of our data \n",
    "    # We do not use log of ROA in any other calcualtions of our project\n",
    "sns.boxplot(y= a, data = data) \n"
   ]
  },
  {
   "cell_type": "markdown",
   "metadata": {},
   "source": [
    "ROA has few outliers. There is a slightly greater number of ROA observations on the lower quartile. "
   ]
  },
  {
   "cell_type": "code",
   "execution_count": 298,
   "metadata": {},
   "outputs": [
    {
     "data": {
      "text/plain": [
       "<matplotlib.axes._subplots.AxesSubplot at 0x1f13c295fd0>"
      ]
     },
     "execution_count": 298,
     "metadata": {},
     "output_type": "execute_result"
    },
    {
     "data": {
      "image/png": "[encoded data removed]",
      "text/plain": [
       "<Figure size 432x288 with 1 Axes>"
      ]
     },
     "metadata": {
      "needs_background": "light"
     },
     "output_type": "display_data"
    }
   ],
   "source": [
    "data.groupby('Publisher Name')['ROA'].sum().plot(kind='bar')"
   ]
  },
  {
   "cell_type": "markdown",
   "metadata": {},
   "source": [
    "Yahoo - US has the most ROA. MSN - US has the lowest ROA. "
   ]
  },
  {
   "cell_type": "code",
   "execution_count": 299,
   "metadata": {},
   "outputs": [
    {
     "data": {
      "text/plain": [
       "0     975.327778\n",
       "1    1574.200000\n",
       "2     390.150000\n",
       "3     832.575000\n",
       "4     935.000000\n",
       "Name: Avg Revenue per Booking, dtype: float64"
      ]
     },
     "execution_count": 299,
     "metadata": {},
     "output_type": "execute_result"
    }
   ],
   "source": [
    "data['Avg Revenue per Booking'].head()"
   ]
  },
  {
   "cell_type": "code",
   "execution_count": 300,
   "metadata": {},
   "outputs": [
    {
     "data": {
      "text/plain": [
       "array([[<matplotlib.axes._subplots.AxesSubplot object at 0x000001F13E2A38B0>]],\n",
       "      dtype=object)"
      ]
     },
     "execution_count": 300,
     "metadata": {},
     "output_type": "execute_result"
    },
    {
     "data": {
      "image/png": "[encoded data removed]",
      "text/plain": [
       "<Figure size 432x288 with 1 Axes>"
      ]
     },
     "metadata": {
      "needs_background": "light"
     },
     "output_type": "display_data"
    }
   ],
   "source": [
    "data.hist('Avg Revenue per Booking')"
   ]
  },
  {
   "cell_type": "markdown",
   "metadata": {},
   "source": [
    "Average Revenue per Booking is mainly within the range of 500 - 1000."
   ]
  },
  {
   "cell_type": "code",
   "execution_count": 301,
   "metadata": {},
   "outputs": [
    {
     "data": {
      "text/plain": [
       "<matplotlib.axes._subplots.AxesSubplot at 0x1f13e1ca880>"
      ]
     },
     "execution_count": 301,
     "metadata": {},
     "output_type": "execute_result"
    },
    {
     "data": {
      "image/png": "[encoded data removed]",
      "text/plain": [
       "<Figure size 720x1440 with 1 Axes>"
      ]
     },
     "metadata": {
      "needs_background": "light"
     },
     "output_type": "display_data"
    }
   ],
   "source": [
    "plt.figure(figsize=(10,20))  \n",
    "a= np.log(data['Avg Revenue per Booking'])\n",
    "    # We calculate log of Avg Revenue per Booking to visualize the distribution of our data \n",
    "    # We do not use log of Avg Revenue per Booking in any other calcualtions of our project\n",
    "sns.boxplot(y= a, data = data) "
   ]
  },
  {
   "cell_type": "markdown",
   "metadata": {},
   "source": [
    "Average Revenue per Booking has a considerable number of outliers. Data is distributed slightly more towards the lower quartile. "
   ]
  },
  {
   "cell_type": "code",
   "execution_count": 302,
   "metadata": {},
   "outputs": [
    {
     "data": {
      "text/plain": [
       "<matplotlib.axes._subplots.AxesSubplot at 0x1f13e374250>"
      ]
     },
     "execution_count": 302,
     "metadata": {},
     "output_type": "execute_result"
    },
    {
     "data": {
      "image/png": "[encoded data removed]",
      "text/plain": [
       "<Figure size 432x288 with 1 Axes>"
      ]
     },
     "metadata": {
      "needs_background": "light"
     },
     "output_type": "display_data"
    }
   ],
   "source": [
    "data.groupby('Publisher Name')['Avg Revenue per Booking'].sum().plot(kind='bar')"
   ]
  },
  {
   "cell_type": "markdown",
   "metadata": {},
   "source": [
    "Google - US has the most Average Revenue per Booking. MSN - US has the lowest Average Revenue per Booking."
   ]
  },
  {
   "cell_type": "code",
   "execution_count": 303,
   "metadata": {},
   "outputs": [
    {
     "data": {
      "text/plain": [
       "<matplotlib.axes._subplots.AxesSubplot at 0x1f13e948790>"
      ]
     },
     "execution_count": 303,
     "metadata": {},
     "output_type": "execute_result"
    },
    {
     "data": {
      "image/png": "[encoded data removed]",
      "text/plain": [
       "<Figure size 432x288 with 1 Axes>"
      ]
     },
     "metadata": {
      "needs_background": "light"
     },
     "output_type": "display_data"
    }
   ],
   "source": [
    "data.groupby('Publisher Name')['Probability of Booking'].sum().plot(kind='bar')"
   ]
  },
  {
   "cell_type": "markdown",
   "metadata": {},
   "source": [
    "Google - US has highest probability of booking. The lowest probability of booking seems to be Overture - US."
   ]
  },
  {
   "cell_type": "code",
   "execution_count": 304,
   "metadata": {},
   "outputs": [
    {
     "data": {
      "text/plain": [
       "<matplotlib.axes._subplots.AxesSubplot at 0x1f13e971640>"
      ]
     },
     "execution_count": 304,
     "metadata": {},
     "output_type": "execute_result"
    },
    {
     "data": {
      "image/png": "[encoded data removed]",
      "text/plain": [
       "<Figure size 432x288 with 1 Axes>"
      ]
     },
     "metadata": {
      "needs_background": "light"
     },
     "output_type": "display_data"
    }
   ],
   "source": [
    "data.groupby('Publisher Name')['Total Volume of Bookings'].sum().plot(kind='bar')"
   ]
  },
  {
   "cell_type": "markdown",
   "metadata": {},
   "source": [
    "Google - US has the highest volume of bookings. MSN - Global has the lowest volume of bookings."
   ]
  },
  {
   "cell_type": "code",
   "execution_count": 305,
   "metadata": {},
   "outputs": [
    {
     "data": {
      "text/plain": [
       "<matplotlib.axes._subplots.AxesSubplot at 0x1f13ea038b0>"
      ]
     },
     "execution_count": 305,
     "metadata": {},
     "output_type": "execute_result"
    },
    {
     "data": {
      "image/png": "[encoded data removed]",
      "text/plain": [
       "<Figure size 432x288 with 1 Axes>"
      ]
     },
     "metadata": {
      "needs_background": "light"
     },
     "output_type": "display_data"
    }
   ],
   "source": [
    "data.groupby('Publisher Name')['Impressions'].sum().plot(kind='bar')"
   ]
  },
  {
   "cell_type": "markdown",
   "metadata": {},
   "source": [
    "Overture - Global has the highest number of impressions. MSN - US seems to have the lowest number of impressions."
   ]
  },
  {
   "cell_type": "code",
   "execution_count": 306,
   "metadata": {},
   "outputs": [
    {
     "data": {
      "text/plain": [
       "<matplotlib.axes._subplots.AxesSubplot at 0x1f13ea68160>"
      ]
     },
     "execution_count": 306,
     "metadata": {},
     "output_type": "execute_result"
    },
    {
     "data": {
      "image/png": "[encoded data removed]",
      "text/plain": [
       "<Figure size 432x288 with 1 Axes>"
      ]
     },
     "metadata": {
      "needs_background": "light"
     },
     "output_type": "display_data"
    }
   ],
   "source": [
    "y = 'Total Cost'\n",
    "x = 'Clicks'\n",
    "sns.scatterplot(x,y,data= data)"
   ]
  },
  {
   "cell_type": "markdown",
   "metadata": {},
   "source": [
    "There is a potential positive relationship between Total Cost and Clicks. "
   ]
  },
  {
   "cell_type": "code",
   "execution_count": 307,
   "metadata": {},
   "outputs": [
    {
     "data": {
      "text/plain": [
       "<matplotlib.axes._subplots.AxesSubplot at 0x1f13eabc190>"
      ]
     },
     "execution_count": 307,
     "metadata": {},
     "output_type": "execute_result"
    },
    {
     "data": {
      "image/png": "[encoded data removed]",
      "text/plain": [
       "<Figure size 432x288 with 1 Axes>"
      ]
     },
     "metadata": {
      "needs_background": "light"
     },
     "output_type": "display_data"
    }
   ],
   "source": [
    "y = 'Total Cost'\n",
    "x = 'Impressions'\n",
    "sns.scatterplot(x,y,data= data)"
   ]
  },
  {
   "cell_type": "markdown",
   "metadata": {},
   "source": [
    "There is a slight potential positive relationship between Impressions and Total Costs. There are plenty outliers."
   ]
  },
  {
   "cell_type": "code",
   "execution_count": 308,
   "metadata": {},
   "outputs": [
    {
     "data": {
      "text/plain": [
       "<matplotlib.axes._subplots.AxesSubplot at 0x1f13eb1adf0>"
      ]
     },
     "execution_count": 308,
     "metadata": {},
     "output_type": "execute_result"
    },
    {
     "data": {
      "image/png": "[encoded data removed]",
      "text/plain": [
       "<Figure size 432x288 with 1 Axes>"
      ]
     },
     "metadata": {
      "needs_background": "light"
     },
     "output_type": "display_data"
    }
   ],
   "source": [
    "data.groupby('Match Type')['Total Cost'].sum().plot(kind='bar')"
   ]
  },
  {
   "cell_type": "markdown",
   "metadata": {},
   "source": [
    "The most popular type of match used is broad. The least type of match used is exact."
   ]
  },
  {
   "cell_type": "code",
   "execution_count": 309,
   "metadata": {},
   "outputs": [
    {
     "data": {
      "text/plain": [
       "<matplotlib.axes._subplots.AxesSubplot at 0x1f13eb6c730>"
      ]
     },
     "execution_count": 309,
     "metadata": {},
     "output_type": "execute_result"
    },
    {
     "data": {
      "image/png": "[encoded data removed]",
      "text/plain": [
       "<Figure size 432x288 with 1 Axes>"
      ]
     },
     "metadata": {
      "needs_background": "light"
     },
     "output_type": "display_data"
    }
   ],
   "source": [
    "data.groupby('Campaign')['Total Cost'].sum().plot(kind='bar')"
   ]
  },
  {
   "cell_type": "markdown",
   "metadata": {},
   "source": [
    "After the unassigned campaigns, the highest cost of campaign is Air France Branded. "
   ]
  },
  {
   "cell_type": "code",
   "execution_count": 310,
   "metadata": {},
   "outputs": [
    {
     "data": {
      "text/plain": [
       "<matplotlib.axes._subplots.AxesSubplot at 0x1f13ebbf490>"
      ]
     },
     "execution_count": 310,
     "metadata": {},
     "output_type": "execute_result"
    },
    {
     "data": {
      "image/png": "[encoded data removed]",
      "text/plain": [
       "<Figure size 432x288 with 1 Axes>"
      ]
     },
     "metadata": {
      "needs_background": "light"
     },
     "output_type": "display_data"
    }
   ],
   "source": [
    "sns.distplot(data['Avg. Pos.'])"
   ]
  },
  {
   "cell_type": "markdown",
   "metadata": {},
   "source": [
    "The data for average position of ads is skewed to the left, which means that the mean is higher than the median. "
   ]
  },
  {
   "cell_type": "markdown",
   "metadata": {},
   "source": [
    "## Data Cleaning"
   ]
  },
  {
   "cell_type": "code",
   "execution_count": 311,
   "metadata": {},
   "outputs": [
    {
     "data": {
      "text/html": [
       "<div>\n",
       "<style scoped>\n",
       "    .dataframe tbody tr th:only-of-type {\n",
       "        vertical-align: middle;\n",
       "    }\n",
       "\n",
       "    .dataframe tbody tr th {\n",
       "        vertical-align: top;\n",
       "    }\n",
       "\n",
       "    .dataframe thead th {\n",
       "        text-align: right;\n",
       "    }\n",
       "</style>\n",
       "<table border=\"1\" class=\"dataframe\">\n",
       "  <thead>\n",
       "    <tr style=\"text-align: right;\">\n",
       "      <th></th>\n",
       "      <th>Publisher ID</th>\n",
       "      <th>Publisher Name</th>\n",
       "      <th>Keyword ID</th>\n",
       "      <th>Keyword</th>\n",
       "      <th>Match Type</th>\n",
       "      <th>Campaign</th>\n",
       "      <th>Keyword Group</th>\n",
       "      <th>Category</th>\n",
       "      <th>Bid Strategy</th>\n",
       "      <th>Keyword Type</th>\n",
       "      <th>...</th>\n",
       "      <th>Avg. Pos.</th>\n",
       "      <th>Trans. Conv. %</th>\n",
       "      <th>Total Cost/ Trans.</th>\n",
       "      <th>Amount</th>\n",
       "      <th>Total Cost</th>\n",
       "      <th>Total Volume of Bookings</th>\n",
       "      <th>Net Revenue</th>\n",
       "      <th>Probability of Booking</th>\n",
       "      <th>ROA</th>\n",
       "      <th>Avg Revenue per Booking</th>\n",
       "    </tr>\n",
       "  </thead>\n",
       "  <tbody>\n",
       "    <tr>\n",
       "      <th>0</th>\n",
       "      <td>K2615</td>\n",
       "      <td>Yahoo - US</td>\n",
       "      <td>43000000039657988</td>\n",
       "      <td>fly to florence</td>\n",
       "      <td>Advanced</td>\n",
       "      <td>Western Europe Destinations</td>\n",
       "      <td>Florence</td>\n",
       "      <td>uncategorized</td>\n",
       "      <td>NaN</td>\n",
       "      <td>Unassigned</td>\n",
       "      <td>...</td>\n",
       "      <td>1.272727</td>\n",
       "      <td>900.000000</td>\n",
       "      <td>0.256944</td>\n",
       "      <td>8777.95</td>\n",
       "      <td>2.3125</td>\n",
       "      <td>9</td>\n",
       "      <td>8775.6375</td>\n",
       "      <td>0.818182</td>\n",
       "      <td>379487.027027</td>\n",
       "      <td>975.327778</td>\n",
       "    </tr>\n",
       "    <tr>\n",
       "      <th>1</th>\n",
       "      <td>K2615</td>\n",
       "      <td>Yahoo - US</td>\n",
       "      <td>43000000039651113</td>\n",
       "      <td>low international airfare</td>\n",
       "      <td>Advanced</td>\n",
       "      <td>Geo Targeted DC</td>\n",
       "      <td>Low International DC</td>\n",
       "      <td>uncategorized</td>\n",
       "      <td>NaN</td>\n",
       "      <td>Unassigned</td>\n",
       "      <td>...</td>\n",
       "      <td>1.000000</td>\n",
       "      <td>100.000000</td>\n",
       "      <td>0.625000</td>\n",
       "      <td>1574.20</td>\n",
       "      <td>0.6250</td>\n",
       "      <td>1</td>\n",
       "      <td>1573.5750</td>\n",
       "      <td>0.166667</td>\n",
       "      <td>251772.000000</td>\n",
       "      <td>1574.200000</td>\n",
       "    </tr>\n",
       "    <tr>\n",
       "      <th>2</th>\n",
       "      <td>K2003</td>\n",
       "      <td>MSN - Global</td>\n",
       "      <td>43000000019452431</td>\n",
       "      <td>air discount france ticket</td>\n",
       "      <td>Broad</td>\n",
       "      <td>Air France Brand &amp; French Destinations</td>\n",
       "      <td>France</td>\n",
       "      <td>uncategorized</td>\n",
       "      <td>Position 2-5 Bid Strategy</td>\n",
       "      <td>Unassigned</td>\n",
       "      <td>...</td>\n",
       "      <td>1.111111</td>\n",
       "      <td>100.000000</td>\n",
       "      <td>0.387500</td>\n",
       "      <td>390.15</td>\n",
       "      <td>0.3875</td>\n",
       "      <td>1</td>\n",
       "      <td>389.7625</td>\n",
       "      <td>0.111111</td>\n",
       "      <td>100583.870968</td>\n",
       "      <td>390.150000</td>\n",
       "    </tr>\n",
       "    <tr>\n",
       "      <th>3</th>\n",
       "      <td>K1175</td>\n",
       "      <td>Google - Global</td>\n",
       "      <td>43000000005663331</td>\n",
       "      <td>[airfrance]</td>\n",
       "      <td>Exact</td>\n",
       "      <td>Air France Global Campaign</td>\n",
       "      <td>Air France</td>\n",
       "      <td>airfrance</td>\n",
       "      <td>Position 1- 3</td>\n",
       "      <td>Unassigned</td>\n",
       "      <td>...</td>\n",
       "      <td>2.000000</td>\n",
       "      <td>3.389831</td>\n",
       "      <td>1.156250</td>\n",
       "      <td>1665.15</td>\n",
       "      <td>2.3125</td>\n",
       "      <td>2</td>\n",
       "      <td>1662.8375</td>\n",
       "      <td>0.004988</td>\n",
       "      <td>71906.491546</td>\n",
       "      <td>832.575000</td>\n",
       "    </tr>\n",
       "    <tr>\n",
       "      <th>4</th>\n",
       "      <td>K1123</td>\n",
       "      <td>Overture - Global</td>\n",
       "      <td>43000000005421354</td>\n",
       "      <td>air france online booking</td>\n",
       "      <td>Standard</td>\n",
       "      <td>Unassigned</td>\n",
       "      <td>Unassigned</td>\n",
       "      <td>airfrance</td>\n",
       "      <td>Position 1-2 Target</td>\n",
       "      <td>Unassigned</td>\n",
       "      <td>...</td>\n",
       "      <td>2.975786</td>\n",
       "      <td>12.500000</td>\n",
       "      <td>2.200000</td>\n",
       "      <td>935.00</td>\n",
       "      <td>2.2000</td>\n",
       "      <td>1</td>\n",
       "      <td>932.8000</td>\n",
       "      <td>0.003145</td>\n",
       "      <td>42400.000000</td>\n",
       "      <td>935.000000</td>\n",
       "    </tr>\n",
       "  </tbody>\n",
       "</table>\n",
       "<p>5 rows × 27 columns</p>\n",
       "</div>"
      ],
      "text/plain": [
       "  Publisher ID     Publisher Name         Keyword ID  \\\n",
       "0        K2615         Yahoo - US  43000000039657988   \n",
       "1        K2615         Yahoo - US  43000000039651113   \n",
       "2        K2003       MSN - Global  43000000019452431   \n",
       "3        K1175    Google - Global  43000000005663331   \n",
       "4        K1123  Overture - Global  43000000005421354   \n",
       "\n",
       "                      Keyword Match Type  \\\n",
       "0             fly to florence   Advanced   \n",
       "1   low international airfare   Advanced   \n",
       "2  air discount france ticket      Broad   \n",
       "3                 [airfrance]      Exact   \n",
       "4   air france online booking   Standard   \n",
       "\n",
       "                                 Campaign         Keyword Group  \\\n",
       "0             Western Europe Destinations              Florence   \n",
       "1                         Geo Targeted DC  Low International DC   \n",
       "2  Air France Brand & French Destinations                France   \n",
       "3              Air France Global Campaign            Air France   \n",
       "4                              Unassigned            Unassigned   \n",
       "\n",
       "        Category               Bid Strategy Keyword Type  ... Avg. Pos.  \\\n",
       "0  uncategorized                        NaN   Unassigned  ...  1.272727   \n",
       "1  uncategorized                        NaN   Unassigned  ...  1.000000   \n",
       "2  uncategorized  Position 2-5 Bid Strategy   Unassigned  ...  1.111111   \n",
       "3      airfrance              Position 1- 3   Unassigned  ...  2.000000   \n",
       "4      airfrance        Position 1-2 Target   Unassigned  ...  2.975786   \n",
       "\n",
       "   Trans. Conv. %  Total Cost/ Trans.   Amount  Total Cost  \\\n",
       "0      900.000000            0.256944  8777.95      2.3125   \n",
       "1      100.000000            0.625000  1574.20      0.6250   \n",
       "2      100.000000            0.387500   390.15      0.3875   \n",
       "3        3.389831            1.156250  1665.15      2.3125   \n",
       "4       12.500000            2.200000   935.00      2.2000   \n",
       "\n",
       "   Total Volume of Bookings  Net Revenue  Probability of Booking  \\\n",
       "0                         9    8775.6375                0.818182   \n",
       "1                         1    1573.5750                0.166667   \n",
       "2                         1     389.7625                0.111111   \n",
       "3                         2    1662.8375                0.004988   \n",
       "4                         1     932.8000                0.003145   \n",
       "\n",
       "             ROA  Avg Revenue per Booking  \n",
       "0  379487.027027               975.327778  \n",
       "1  251772.000000              1574.200000  \n",
       "2  100583.870968               390.150000  \n",
       "3   71906.491546               832.575000  \n",
       "4   42400.000000               935.000000  \n",
       "\n",
       "[5 rows x 27 columns]"
      ]
     },
     "execution_count": 311,
     "metadata": {},
     "output_type": "execute_result"
    }
   ],
   "source": [
    "data.head()"
   ]
  },
  {
   "cell_type": "code",
   "execution_count": 312,
   "metadata": {},
   "outputs": [],
   "source": [
    "data.loc[data['Match Type'] == 'Broad', 'match_dum'] = 1\n",
    "data.loc[data['Match Type'] != 'Broad', 'match_dum'] = 0\n",
    "\n",
    "# Bar chart shows that broad is the most popular type of match used"
   ]
  },
  {
   "cell_type": "code",
   "execution_count": 313,
   "metadata": {},
   "outputs": [],
   "source": [
    "data.loc[data['Publisher Name'] == 'Google - US', 'pub_dum'] = 1\n",
    "data.loc[data['Publisher Name'] != 'Google - US', 'pub_dum'] = 0\n",
    "\n",
    "# Bar chart shows that Google - US is the most popular publisher used"
   ]
  },
  {
   "cell_type": "code",
   "execution_count": 314,
   "metadata": {},
   "outputs": [],
   "source": [
    "data.loc[data['Campaign'] == 'Air France Branded', 'camp_dum'] = 1\n",
    "data.loc[data['Campaign'] != 'Air France Branded', 'camp_dum'] = 0\n",
    "\n",
    "# Bar chart shows that Air France Branded is the campaign that costs the most"
   ]
  },
  {
   "cell_type": "code",
   "execution_count": 315,
   "metadata": {},
   "outputs": [],
   "source": [
    "sdata = pd.pivot_table(data,values='Total Cost',index='Keyword',columns=None,aggfunc=np.sum,dropna=True)"
   ]
  },
  {
   "cell_type": "code",
   "execution_count": 316,
   "metadata": {},
   "outputs": [
    {
     "data": {
      "text/html": [
       "<div>\n",
       "<style scoped>\n",
       "    .dataframe tbody tr th:only-of-type {\n",
       "        vertical-align: middle;\n",
       "    }\n",
       "\n",
       "    .dataframe tbody tr th {\n",
       "        vertical-align: top;\n",
       "    }\n",
       "\n",
       "    .dataframe thead th {\n",
       "        text-align: right;\n",
       "    }\n",
       "</style>\n",
       "<table border=\"1\" class=\"dataframe\">\n",
       "  <thead>\n",
       "    <tr style=\"text-align: right;\">\n",
       "      <th></th>\n",
       "      <th>Total Cost</th>\n",
       "    </tr>\n",
       "    <tr>\n",
       "      <th>Keyword</th>\n",
       "      <th></th>\n",
       "    </tr>\n",
       "  </thead>\n",
       "  <tbody>\n",
       "    <tr>\n",
       "      <th>air france</th>\n",
       "      <td>85736.637032</td>\n",
       "    </tr>\n",
       "    <tr>\n",
       "      <th>airline ticket</th>\n",
       "      <td>64279.162309</td>\n",
       "    </tr>\n",
       "    <tr>\n",
       "      <th>flight to paris</th>\n",
       "      <td>49413.662420</td>\n",
       "    </tr>\n",
       "    <tr>\n",
       "      <th>airfrance</th>\n",
       "      <td>33584.024589</td>\n",
       "    </tr>\n",
       "    <tr>\n",
       "      <th>[air france]</th>\n",
       "      <td>33552.649629</td>\n",
       "    </tr>\n",
       "    <tr>\n",
       "      <th>france travel</th>\n",
       "      <td>29091.499934</td>\n",
       "    </tr>\n",
       "    <tr>\n",
       "      <th>paris travel</th>\n",
       "      <td>22876.974957</td>\n",
       "    </tr>\n",
       "    <tr>\n",
       "      <th>flights to paris</th>\n",
       "      <td>15917.124957</td>\n",
       "    </tr>\n",
       "    <tr>\n",
       "      <th>europe travel</th>\n",
       "      <td>13212.624973</td>\n",
       "    </tr>\n",
       "    <tr>\n",
       "      <th>airfare</th>\n",
       "      <td>11356.924970</td>\n",
       "    </tr>\n",
       "  </tbody>\n",
       "</table>\n",
       "</div>"
      ],
      "text/plain": [
       "                    Total Cost\n",
       "Keyword                       \n",
       "air france        85736.637032\n",
       "airline ticket    64279.162309\n",
       "flight to paris   49413.662420\n",
       "airfrance         33584.024589\n",
       "[air france]      33552.649629\n",
       "france travel     29091.499934\n",
       "paris travel      22876.974957\n",
       "flights to paris  15917.124957\n",
       "europe travel     13212.624973\n",
       "airfare           11356.924970"
      ]
     },
     "execution_count": 316,
     "metadata": {},
     "output_type": "execute_result"
    }
   ],
   "source": [
    "sdata.sort_values(by = 'Total Cost',ascending = False).nlargest(10,'Total Cost')"
   ]
  },
  {
   "cell_type": "code",
   "execution_count": 317,
   "metadata": {},
   "outputs": [],
   "source": [
    "data.loc[data['Keyword'] == 'air france', 'keyword_dum'] = 1\n",
    "data.loc[data['Keyword'] != 'air france', 'keyword_dum'] = 0"
   ]
  },
  {
   "cell_type": "code",
   "execution_count": 318,
   "metadata": {},
   "outputs": [],
   "source": [
    "sdata1 = pd.pivot_table(data,values='Total Cost',index='Keyword Group',columns=None,aggfunc=np.sum,dropna=True)"
   ]
  },
  {
   "cell_type": "code",
   "execution_count": 319,
   "metadata": {},
   "outputs": [
    {
     "data": {
      "text/html": [
       "<div>\n",
       "<style scoped>\n",
       "    .dataframe tbody tr th:only-of-type {\n",
       "        vertical-align: middle;\n",
       "    }\n",
       "\n",
       "    .dataframe tbody tr th {\n",
       "        vertical-align: top;\n",
       "    }\n",
       "\n",
       "    .dataframe thead th {\n",
       "        text-align: right;\n",
       "    }\n",
       "</style>\n",
       "<table border=\"1\" class=\"dataframe\">\n",
       "  <thead>\n",
       "    <tr style=\"text-align: right;\">\n",
       "      <th></th>\n",
       "      <th>Total Cost</th>\n",
       "    </tr>\n",
       "    <tr>\n",
       "      <th>Keyword Group</th>\n",
       "      <th></th>\n",
       "    </tr>\n",
       "  </thead>\n",
       "  <tbody>\n",
       "    <tr>\n",
       "      <th>Unassigned</th>\n",
       "      <td>206271.936599</td>\n",
       "    </tr>\n",
       "    <tr>\n",
       "      <th>Air France Brand</th>\n",
       "      <td>113652.724276</td>\n",
       "    </tr>\n",
       "    <tr>\n",
       "      <th>Paris</th>\n",
       "      <td>99833.149729</td>\n",
       "    </tr>\n",
       "    <tr>\n",
       "      <th>France</th>\n",
       "      <td>89933.974845</td>\n",
       "    </tr>\n",
       "    <tr>\n",
       "      <th>Air France Website</th>\n",
       "      <td>75261.999489</td>\n",
       "    </tr>\n",
       "    <tr>\n",
       "      <th>Google|Flights Relaunch</th>\n",
       "      <td>14126.787477</td>\n",
       "    </tr>\n",
       "    <tr>\n",
       "      <th>Google|Spain</th>\n",
       "      <td>12898.774968</td>\n",
       "    </tr>\n",
       "    <tr>\n",
       "      <th>Google|Europe</th>\n",
       "      <td>10227.112478</td>\n",
       "    </tr>\n",
       "    <tr>\n",
       "      <th>Air France</th>\n",
       "      <td>8951.949875</td>\n",
       "    </tr>\n",
       "    <tr>\n",
       "      <th>Spain</th>\n",
       "      <td>8662.499980</td>\n",
       "    </tr>\n",
       "  </tbody>\n",
       "</table>\n",
       "</div>"
      ],
      "text/plain": [
       "                            Total Cost\n",
       "Keyword Group                         \n",
       "Unassigned               206271.936599\n",
       "Air France Brand         113652.724276\n",
       "Paris                     99833.149729\n",
       "France                    89933.974845\n",
       "Air France Website        75261.999489\n",
       "Google|Flights Relaunch   14126.787477\n",
       "Google|Spain              12898.774968\n",
       "Google|Europe             10227.112478\n",
       "Air France                 8951.949875\n",
       "Spain                      8662.499980"
      ]
     },
     "execution_count": 319,
     "metadata": {},
     "output_type": "execute_result"
    }
   ],
   "source": [
    "sdata1.sort_values(by = 'Total Cost',ascending = False).nlargest(10,'Total Cost')"
   ]
  },
  {
   "cell_type": "code",
   "execution_count": 320,
   "metadata": {},
   "outputs": [],
   "source": [
    "data.loc[data['Keyword Group'] == 'Air France Brand', 'keygroup_dum'] = 1\n",
    "data.loc[data['Keyword Group'] != 'Air France Brand', 'keygroup_dum'] = 0"
   ]
  },
  {
   "cell_type": "code",
   "execution_count": 321,
   "metadata": {},
   "outputs": [],
   "source": [
    "sdata2 = pd.pivot_table(data,values='Total Cost',index='Category',columns=None,aggfunc=np.sum,dropna=True)"
   ]
  },
  {
   "cell_type": "code",
   "execution_count": 322,
   "metadata": {},
   "outputs": [
    {
     "data": {
      "text/html": [
       "<div>\n",
       "<style scoped>\n",
       "    .dataframe tbody tr th:only-of-type {\n",
       "        vertical-align: middle;\n",
       "    }\n",
       "\n",
       "    .dataframe tbody tr th {\n",
       "        vertical-align: top;\n",
       "    }\n",
       "\n",
       "    .dataframe thead th {\n",
       "        text-align: right;\n",
       "    }\n",
       "</style>\n",
       "<table border=\"1\" class=\"dataframe\">\n",
       "  <thead>\n",
       "    <tr style=\"text-align: right;\">\n",
       "      <th></th>\n",
       "      <th>Total Cost</th>\n",
       "    </tr>\n",
       "    <tr>\n",
       "      <th>Category</th>\n",
       "      <th></th>\n",
       "    </tr>\n",
       "  </thead>\n",
       "  <tbody>\n",
       "    <tr>\n",
       "      <th>uncategorized</th>\n",
       "      <td>478257.710612</td>\n",
       "    </tr>\n",
       "    <tr>\n",
       "      <th>airline</th>\n",
       "      <td>64033.424812</td>\n",
       "    </tr>\n",
       "    <tr>\n",
       "      <th>france</th>\n",
       "      <td>40797.162397</td>\n",
       "    </tr>\n",
       "    <tr>\n",
       "      <th>paris</th>\n",
       "      <td>34811.774881</td>\n",
       "    </tr>\n",
       "    <tr>\n",
       "      <th>airfrance</th>\n",
       "      <td>27996.774681</td>\n",
       "    </tr>\n",
       "    <tr>\n",
       "      <th>flight</th>\n",
       "      <td>18166.099915</td>\n",
       "    </tr>\n",
       "    <tr>\n",
       "      <th>europe2</th>\n",
       "      <td>15563.187468</td>\n",
       "    </tr>\n",
       "    <tr>\n",
       "      <th>airfaregeneral</th>\n",
       "      <td>12834.962459</td>\n",
       "    </tr>\n",
       "    <tr>\n",
       "      <th>discount</th>\n",
       "      <td>7577.737467</td>\n",
       "    </tr>\n",
       "    <tr>\n",
       "      <th>greece</th>\n",
       "      <td>5691.899980</td>\n",
       "    </tr>\n",
       "  </tbody>\n",
       "</table>\n",
       "</div>"
      ],
      "text/plain": [
       "                   Total Cost\n",
       "Category                     \n",
       "uncategorized   478257.710612\n",
       "airline          64033.424812\n",
       "france           40797.162397\n",
       "paris            34811.774881\n",
       "airfrance        27996.774681\n",
       "flight           18166.099915\n",
       "europe2          15563.187468\n",
       "airfaregeneral   12834.962459\n",
       "discount          7577.737467\n",
       "greece            5691.899980"
      ]
     },
     "execution_count": 322,
     "metadata": {},
     "output_type": "execute_result"
    }
   ],
   "source": [
    "sdata2.sort_values(by = 'Total Cost',ascending = False).nlargest(10,'Total Cost')"
   ]
  },
  {
   "cell_type": "code",
   "execution_count": 323,
   "metadata": {},
   "outputs": [],
   "source": [
    "data.loc[data['Category'] == 'airline', 'cat_dum'] = 1\n",
    "data.loc[data['Category'] != 'airline', 'cat_dum'] = 0"
   ]
  },
  {
   "cell_type": "code",
   "execution_count": 324,
   "metadata": {},
   "outputs": [],
   "source": [
    "sdata3 = pd.pivot_table(data,values='Total Cost',index='Bid Strategy',columns=None,aggfunc=np.sum,dropna=True)"
   ]
  },
  {
   "cell_type": "code",
   "execution_count": 325,
   "metadata": {},
   "outputs": [
    {
     "data": {
      "text/html": [
       "<div>\n",
       "<style scoped>\n",
       "    .dataframe tbody tr th:only-of-type {\n",
       "        vertical-align: middle;\n",
       "    }\n",
       "\n",
       "    .dataframe tbody tr th {\n",
       "        vertical-align: top;\n",
       "    }\n",
       "\n",
       "    .dataframe thead th {\n",
       "        text-align: right;\n",
       "    }\n",
       "</style>\n",
       "<table border=\"1\" class=\"dataframe\">\n",
       "  <thead>\n",
       "    <tr style=\"text-align: right;\">\n",
       "      <th></th>\n",
       "      <th>Total Cost</th>\n",
       "    </tr>\n",
       "    <tr>\n",
       "      <th>Bid Strategy</th>\n",
       "      <th></th>\n",
       "    </tr>\n",
       "  </thead>\n",
       "  <tbody>\n",
       "    <tr>\n",
       "      <th>Position 5-10 Bid Strategy</th>\n",
       "      <td>172972.562012</td>\n",
       "    </tr>\n",
       "    <tr>\n",
       "      <th>Position 1-4 Bid Strategy</th>\n",
       "      <td>128886.324516</td>\n",
       "    </tr>\n",
       "    <tr>\n",
       "      <th>Postiion 1-4 Bid Strategy</th>\n",
       "      <td>66677.499828</td>\n",
       "    </tr>\n",
       "    <tr>\n",
       "      <th>Position 1- 3</th>\n",
       "      <td>58697.299770</td>\n",
       "    </tr>\n",
       "    <tr>\n",
       "      <th>Pos 3-6</th>\n",
       "      <td>45965.837416</td>\n",
       "    </tr>\n",
       "    <tr>\n",
       "      <th>Position 1-2 Target</th>\n",
       "      <td>23761.424779</td>\n",
       "    </tr>\n",
       "    <tr>\n",
       "      <th>Position 2-5 Bid Strategy</th>\n",
       "      <td>11568.724968</td>\n",
       "    </tr>\n",
       "    <tr>\n",
       "      <th>Position 1 -2 Target</th>\n",
       "      <td>5296.287468</td>\n",
       "    </tr>\n",
       "  </tbody>\n",
       "</table>\n",
       "</div>"
      ],
      "text/plain": [
       "                               Total Cost\n",
       "Bid Strategy                             \n",
       "Position 5-10 Bid Strategy  172972.562012\n",
       "Position 1-4 Bid Strategy   128886.324516\n",
       "Postiion 1-4 Bid Strategy    66677.499828\n",
       "Position 1- 3                58697.299770\n",
       "Pos 3-6                      45965.837416\n",
       "Position 1-2 Target          23761.424779\n",
       "Position 2-5 Bid Strategy    11568.724968\n",
       "Position 1 -2 Target          5296.287468"
      ]
     },
     "execution_count": 325,
     "metadata": {},
     "output_type": "execute_result"
    }
   ],
   "source": [
    "sdata3.sort_values(by = 'Total Cost',ascending = False).nlargest(10,'Total Cost')"
   ]
  },
  {
   "cell_type": "code",
   "execution_count": 326,
   "metadata": {},
   "outputs": [],
   "source": [
    "data.loc[data['Bid Strategy'] == 'Position 5-10 Bid Strategy', 'bids_dum'] = 1\n",
    "data.loc[data['Bid Strategy'] != 'Position 5-10 Bid Strategy', 'bids_dum'] = 0"
   ]
  },
  {
   "cell_type": "code",
   "execution_count": 327,
   "metadata": {},
   "outputs": [],
   "source": [
    "sdata4 = pd.pivot_table(data,values='Total Cost',index='Keyword Type',columns=None,aggfunc=np.sum,dropna=True)"
   ]
  },
  {
   "cell_type": "code",
   "execution_count": 328,
   "metadata": {},
   "outputs": [
    {
     "data": {
      "text/html": [
       "<div>\n",
       "<style scoped>\n",
       "    .dataframe tbody tr th:only-of-type {\n",
       "        vertical-align: middle;\n",
       "    }\n",
       "\n",
       "    .dataframe tbody tr th {\n",
       "        vertical-align: top;\n",
       "    }\n",
       "\n",
       "    .dataframe thead th {\n",
       "        text-align: right;\n",
       "    }\n",
       "</style>\n",
       "<table border=\"1\" class=\"dataframe\">\n",
       "  <thead>\n",
       "    <tr style=\"text-align: right;\">\n",
       "      <th></th>\n",
       "      <th>Total Cost</th>\n",
       "    </tr>\n",
       "    <tr>\n",
       "      <th>Keyword Type</th>\n",
       "      <th></th>\n",
       "    </tr>\n",
       "  </thead>\n",
       "  <tbody>\n",
       "    <tr>\n",
       "      <th>Unassigned</th>\n",
       "      <td>755315.921956</td>\n",
       "    </tr>\n",
       "  </tbody>\n",
       "</table>\n",
       "</div>"
      ],
      "text/plain": [
       "                 Total Cost\n",
       "Keyword Type               \n",
       "Unassigned    755315.921956"
      ]
     },
     "execution_count": 328,
     "metadata": {},
     "output_type": "execute_result"
    }
   ],
   "source": [
    "sdata4.sort_values(by = 'Total Cost',ascending = False).nlargest(10,'Total Cost')"
   ]
  },
  {
   "cell_type": "code",
   "execution_count": 329,
   "metadata": {},
   "outputs": [],
   "source": [
    "sdata5 = pd.pivot_table(data,values='Total Cost',index='Status',columns=None,aggfunc=np.sum,dropna=True)"
   ]
  },
  {
   "cell_type": "code",
   "execution_count": 330,
   "metadata": {},
   "outputs": [
    {
     "data": {
      "text/html": [
       "<div>\n",
       "<style scoped>\n",
       "    .dataframe tbody tr th:only-of-type {\n",
       "        vertical-align: middle;\n",
       "    }\n",
       "\n",
       "    .dataframe tbody tr th {\n",
       "        vertical-align: top;\n",
       "    }\n",
       "\n",
       "    .dataframe thead th {\n",
       "        text-align: right;\n",
       "    }\n",
       "</style>\n",
       "<table border=\"1\" class=\"dataframe\">\n",
       "  <thead>\n",
       "    <tr style=\"text-align: right;\">\n",
       "      <th></th>\n",
       "      <th>Total Cost</th>\n",
       "    </tr>\n",
       "    <tr>\n",
       "      <th>Status</th>\n",
       "      <th></th>\n",
       "    </tr>\n",
       "  </thead>\n",
       "  <tbody>\n",
       "    <tr>\n",
       "      <th>Paused</th>\n",
       "      <td>272422.999171</td>\n",
       "    </tr>\n",
       "    <tr>\n",
       "      <th>Unavailable</th>\n",
       "      <td>267370.461537</td>\n",
       "    </tr>\n",
       "    <tr>\n",
       "      <th>Live</th>\n",
       "      <td>181575.548916</td>\n",
       "    </tr>\n",
       "    <tr>\n",
       "      <th>Sent</th>\n",
       "      <td>21786.549894</td>\n",
       "    </tr>\n",
       "    <tr>\n",
       "      <th>Deactivated</th>\n",
       "      <td>12160.362438</td>\n",
       "    </tr>\n",
       "  </tbody>\n",
       "</table>\n",
       "</div>"
      ],
      "text/plain": [
       "                Total Cost\n",
       "Status                    \n",
       "Paused       272422.999171\n",
       "Unavailable  267370.461537\n",
       "Live         181575.548916\n",
       "Sent          21786.549894\n",
       "Deactivated   12160.362438"
      ]
     },
     "execution_count": 330,
     "metadata": {},
     "output_type": "execute_result"
    }
   ],
   "source": [
    "sdata5.sort_values(by = 'Total Cost',ascending = False).nlargest(10,'Total Cost')"
   ]
  },
  {
   "cell_type": "code",
   "execution_count": 331,
   "metadata": {},
   "outputs": [],
   "source": [
    "data.loc[data['Status'] == 'Paused', 'status_dum'] = 1\n",
    "data.loc[data['Status'] != 'Paused', 'status_dum'] = 0"
   ]
  },
  {
   "cell_type": "code",
   "execution_count": 332,
   "metadata": {},
   "outputs": [
    {
     "data": {
      "text/html": [
       "<div>\n",
       "<style scoped>\n",
       "    .dataframe tbody tr th:only-of-type {\n",
       "        vertical-align: middle;\n",
       "    }\n",
       "\n",
       "    .dataframe tbody tr th {\n",
       "        vertical-align: top;\n",
       "    }\n",
       "\n",
       "    .dataframe thead th {\n",
       "        text-align: right;\n",
       "    }\n",
       "</style>\n",
       "<table border=\"1\" class=\"dataframe\">\n",
       "  <thead>\n",
       "    <tr style=\"text-align: right;\">\n",
       "      <th></th>\n",
       "      <th>Publisher ID</th>\n",
       "      <th>Publisher Name</th>\n",
       "      <th>Keyword ID</th>\n",
       "      <th>Keyword</th>\n",
       "      <th>Match Type</th>\n",
       "      <th>Campaign</th>\n",
       "      <th>Keyword Group</th>\n",
       "      <th>Category</th>\n",
       "      <th>Bid Strategy</th>\n",
       "      <th>Keyword Type</th>\n",
       "      <th>...</th>\n",
       "      <th>ROA</th>\n",
       "      <th>Avg Revenue per Booking</th>\n",
       "      <th>match_dum</th>\n",
       "      <th>pub_dum</th>\n",
       "      <th>camp_dum</th>\n",
       "      <th>keyword_dum</th>\n",
       "      <th>keygroup_dum</th>\n",
       "      <th>cat_dum</th>\n",
       "      <th>bids_dum</th>\n",
       "      <th>status_dum</th>\n",
       "    </tr>\n",
       "  </thead>\n",
       "  <tbody>\n",
       "    <tr>\n",
       "      <th>0</th>\n",
       "      <td>K2615</td>\n",
       "      <td>Yahoo - US</td>\n",
       "      <td>43000000039657988</td>\n",
       "      <td>fly to florence</td>\n",
       "      <td>Advanced</td>\n",
       "      <td>Western Europe Destinations</td>\n",
       "      <td>Florence</td>\n",
       "      <td>uncategorized</td>\n",
       "      <td>NaN</td>\n",
       "      <td>Unassigned</td>\n",
       "      <td>...</td>\n",
       "      <td>379487.027027</td>\n",
       "      <td>975.327778</td>\n",
       "      <td>0.0</td>\n",
       "      <td>0.0</td>\n",
       "      <td>0.0</td>\n",
       "      <td>0.0</td>\n",
       "      <td>0.0</td>\n",
       "      <td>0.0</td>\n",
       "      <td>0.0</td>\n",
       "      <td>0.0</td>\n",
       "    </tr>\n",
       "    <tr>\n",
       "      <th>1</th>\n",
       "      <td>K2615</td>\n",
       "      <td>Yahoo - US</td>\n",
       "      <td>43000000039651113</td>\n",
       "      <td>low international airfare</td>\n",
       "      <td>Advanced</td>\n",
       "      <td>Geo Targeted DC</td>\n",
       "      <td>Low International DC</td>\n",
       "      <td>uncategorized</td>\n",
       "      <td>NaN</td>\n",
       "      <td>Unassigned</td>\n",
       "      <td>...</td>\n",
       "      <td>251772.000000</td>\n",
       "      <td>1574.200000</td>\n",
       "      <td>0.0</td>\n",
       "      <td>0.0</td>\n",
       "      <td>0.0</td>\n",
       "      <td>0.0</td>\n",
       "      <td>0.0</td>\n",
       "      <td>0.0</td>\n",
       "      <td>0.0</td>\n",
       "      <td>1.0</td>\n",
       "    </tr>\n",
       "    <tr>\n",
       "      <th>2</th>\n",
       "      <td>K2003</td>\n",
       "      <td>MSN - Global</td>\n",
       "      <td>43000000019452431</td>\n",
       "      <td>air discount france ticket</td>\n",
       "      <td>Broad</td>\n",
       "      <td>Air France Brand &amp; French Destinations</td>\n",
       "      <td>France</td>\n",
       "      <td>uncategorized</td>\n",
       "      <td>Position 2-5 Bid Strategy</td>\n",
       "      <td>Unassigned</td>\n",
       "      <td>...</td>\n",
       "      <td>100583.870968</td>\n",
       "      <td>390.150000</td>\n",
       "      <td>1.0</td>\n",
       "      <td>0.0</td>\n",
       "      <td>0.0</td>\n",
       "      <td>0.0</td>\n",
       "      <td>0.0</td>\n",
       "      <td>0.0</td>\n",
       "      <td>0.0</td>\n",
       "      <td>0.0</td>\n",
       "    </tr>\n",
       "    <tr>\n",
       "      <th>3</th>\n",
       "      <td>K1175</td>\n",
       "      <td>Google - Global</td>\n",
       "      <td>43000000005663331</td>\n",
       "      <td>[airfrance]</td>\n",
       "      <td>Exact</td>\n",
       "      <td>Air France Global Campaign</td>\n",
       "      <td>Air France</td>\n",
       "      <td>airfrance</td>\n",
       "      <td>Position 1- 3</td>\n",
       "      <td>Unassigned</td>\n",
       "      <td>...</td>\n",
       "      <td>71906.491546</td>\n",
       "      <td>832.575000</td>\n",
       "      <td>0.0</td>\n",
       "      <td>0.0</td>\n",
       "      <td>0.0</td>\n",
       "      <td>0.0</td>\n",
       "      <td>0.0</td>\n",
       "      <td>0.0</td>\n",
       "      <td>0.0</td>\n",
       "      <td>0.0</td>\n",
       "    </tr>\n",
       "    <tr>\n",
       "      <th>4</th>\n",
       "      <td>K1123</td>\n",
       "      <td>Overture - Global</td>\n",
       "      <td>43000000005421354</td>\n",
       "      <td>air france online booking</td>\n",
       "      <td>Standard</td>\n",
       "      <td>Unassigned</td>\n",
       "      <td>Unassigned</td>\n",
       "      <td>airfrance</td>\n",
       "      <td>Position 1-2 Target</td>\n",
       "      <td>Unassigned</td>\n",
       "      <td>...</td>\n",
       "      <td>42400.000000</td>\n",
       "      <td>935.000000</td>\n",
       "      <td>0.0</td>\n",
       "      <td>0.0</td>\n",
       "      <td>0.0</td>\n",
       "      <td>0.0</td>\n",
       "      <td>0.0</td>\n",
       "      <td>0.0</td>\n",
       "      <td>0.0</td>\n",
       "      <td>1.0</td>\n",
       "    </tr>\n",
       "  </tbody>\n",
       "</table>\n",
       "<p>5 rows × 35 columns</p>\n",
       "</div>"
      ],
      "text/plain": [
       "  Publisher ID     Publisher Name         Keyword ID  \\\n",
       "0        K2615         Yahoo - US  43000000039657988   \n",
       "1        K2615         Yahoo - US  43000000039651113   \n",
       "2        K2003       MSN - Global  43000000019452431   \n",
       "3        K1175    Google - Global  43000000005663331   \n",
       "4        K1123  Overture - Global  43000000005421354   \n",
       "\n",
       "                      Keyword Match Type  \\\n",
       "0             fly to florence   Advanced   \n",
       "1   low international airfare   Advanced   \n",
       "2  air discount france ticket      Broad   \n",
       "3                 [airfrance]      Exact   \n",
       "4   air france online booking   Standard   \n",
       "\n",
       "                                 Campaign         Keyword Group  \\\n",
       "0             Western Europe Destinations              Florence   \n",
       "1                         Geo Targeted DC  Low International DC   \n",
       "2  Air France Brand & French Destinations                France   \n",
       "3              Air France Global Campaign            Air France   \n",
       "4                              Unassigned            Unassigned   \n",
       "\n",
       "        Category               Bid Strategy Keyword Type  ...            ROA  \\\n",
       "0  uncategorized                        NaN   Unassigned  ...  379487.027027   \n",
       "1  uncategorized                        NaN   Unassigned  ...  251772.000000   \n",
       "2  uncategorized  Position 2-5 Bid Strategy   Unassigned  ...  100583.870968   \n",
       "3      airfrance              Position 1- 3   Unassigned  ...   71906.491546   \n",
       "4      airfrance        Position 1-2 Target   Unassigned  ...   42400.000000   \n",
       "\n",
       "   Avg Revenue per Booking  match_dum  pub_dum  camp_dum  keyword_dum  \\\n",
       "0               975.327778        0.0      0.0       0.0          0.0   \n",
       "1              1574.200000        0.0      0.0       0.0          0.0   \n",
       "2               390.150000        1.0      0.0       0.0          0.0   \n",
       "3               832.575000        0.0      0.0       0.0          0.0   \n",
       "4               935.000000        0.0      0.0       0.0          0.0   \n",
       "\n",
       "   keygroup_dum  cat_dum  bids_dum  status_dum  \n",
       "0           0.0      0.0       0.0         0.0  \n",
       "1           0.0      0.0       0.0         1.0  \n",
       "2           0.0      0.0       0.0         0.0  \n",
       "3           0.0      0.0       0.0         0.0  \n",
       "4           0.0      0.0       0.0         1.0  \n",
       "\n",
       "[5 rows x 35 columns]"
      ]
     },
     "execution_count": 332,
     "metadata": {},
     "output_type": "execute_result"
    }
   ],
   "source": [
    "data.head()"
   ]
  },
  {
   "cell_type": "code",
   "execution_count": 333,
   "metadata": {},
   "outputs": [
    {
     "data": {
      "text/plain": [
       "Index(['Publisher ID', 'Publisher Name', 'Keyword ID', 'Keyword', 'Match Type',\n",
       "       'Campaign', 'Keyword Group', 'Category', 'Bid Strategy', 'Keyword Type',\n",
       "       'Status', 'Search Engine Bid', 'Clicks', 'Click Charges',\n",
       "       'Avg. Cost per Click', 'Impressions', 'Engine Click Thru %',\n",
       "       'Avg. Pos.', 'Trans. Conv. %', 'Total Cost/ Trans.', 'Amount',\n",
       "       'Total Cost', 'Total Volume of Bookings', 'Net Revenue',\n",
       "       'Probability of Booking', 'ROA', 'Avg Revenue per Booking', 'match_dum',\n",
       "       'pub_dum', 'camp_dum', 'keyword_dum', 'keygroup_dum', 'cat_dum',\n",
       "       'bids_dum', 'status_dum'],\n",
       "      dtype='object')"
      ]
     },
     "execution_count": 333,
     "metadata": {},
     "output_type": "execute_result"
    }
   ],
   "source": [
    "data.columns"
   ]
  },
  {
   "cell_type": "code",
   "execution_count": 334,
   "metadata": {},
   "outputs": [],
   "source": [
    "data.drop(['Category','Match Type', 'Campaign','Publisher Name','Publisher ID','Keyword ID','Keyword','Keyword Group','Bid Strategy','Keyword Type','Status','Avg Revenue per Booking'], axis = 1, inplace = True)"
   ]
  },
  {
   "cell_type": "code",
   "execution_count": 335,
   "metadata": {},
   "outputs": [
    {
     "data": {
      "text/html": [
       "<div>\n",
       "<style scoped>\n",
       "    .dataframe tbody tr th:only-of-type {\n",
       "        vertical-align: middle;\n",
       "    }\n",
       "\n",
       "    .dataframe tbody tr th {\n",
       "        vertical-align: top;\n",
       "    }\n",
       "\n",
       "    .dataframe thead th {\n",
       "        text-align: right;\n",
       "    }\n",
       "</style>\n",
       "<table border=\"1\" class=\"dataframe\">\n",
       "  <thead>\n",
       "    <tr style=\"text-align: right;\">\n",
       "      <th></th>\n",
       "      <th>Search Engine Bid</th>\n",
       "      <th>Clicks</th>\n",
       "      <th>Click Charges</th>\n",
       "      <th>Avg. Cost per Click</th>\n",
       "      <th>Impressions</th>\n",
       "      <th>Engine Click Thru %</th>\n",
       "      <th>Avg. Pos.</th>\n",
       "      <th>Trans. Conv. %</th>\n",
       "      <th>Total Cost/ Trans.</th>\n",
       "      <th>Amount</th>\n",
       "      <th>...</th>\n",
       "      <th>Probability of Booking</th>\n",
       "      <th>ROA</th>\n",
       "      <th>match_dum</th>\n",
       "      <th>pub_dum</th>\n",
       "      <th>camp_dum</th>\n",
       "      <th>keyword_dum</th>\n",
       "      <th>keygroup_dum</th>\n",
       "      <th>cat_dum</th>\n",
       "      <th>bids_dum</th>\n",
       "      <th>status_dum</th>\n",
       "    </tr>\n",
       "  </thead>\n",
       "  <tbody>\n",
       "    <tr>\n",
       "      <th>0</th>\n",
       "      <td>6.25</td>\n",
       "      <td>1</td>\n",
       "      <td>2.3125</td>\n",
       "      <td>2.312500</td>\n",
       "      <td>11</td>\n",
       "      <td>9.090909</td>\n",
       "      <td>1.272727</td>\n",
       "      <td>900.000000</td>\n",
       "      <td>0.256944</td>\n",
       "      <td>8777.95</td>\n",
       "      <td>...</td>\n",
       "      <td>0.818182</td>\n",
       "      <td>379487.027027</td>\n",
       "      <td>0.0</td>\n",
       "      <td>0.0</td>\n",
       "      <td>0.0</td>\n",
       "      <td>0.0</td>\n",
       "      <td>0.0</td>\n",
       "      <td>0.0</td>\n",
       "      <td>0.0</td>\n",
       "      <td>0.0</td>\n",
       "    </tr>\n",
       "    <tr>\n",
       "      <th>1</th>\n",
       "      <td>6.25</td>\n",
       "      <td>1</td>\n",
       "      <td>0.6250</td>\n",
       "      <td>0.625000</td>\n",
       "      <td>6</td>\n",
       "      <td>16.666667</td>\n",
       "      <td>1.000000</td>\n",
       "      <td>100.000000</td>\n",
       "      <td>0.625000</td>\n",
       "      <td>1574.20</td>\n",
       "      <td>...</td>\n",
       "      <td>0.166667</td>\n",
       "      <td>251772.000000</td>\n",
       "      <td>0.0</td>\n",
       "      <td>0.0</td>\n",
       "      <td>0.0</td>\n",
       "      <td>0.0</td>\n",
       "      <td>0.0</td>\n",
       "      <td>0.0</td>\n",
       "      <td>0.0</td>\n",
       "      <td>1.0</td>\n",
       "    </tr>\n",
       "    <tr>\n",
       "      <th>2</th>\n",
       "      <td>0.00</td>\n",
       "      <td>1</td>\n",
       "      <td>0.3875</td>\n",
       "      <td>0.387500</td>\n",
       "      <td>9</td>\n",
       "      <td>11.111111</td>\n",
       "      <td>1.111111</td>\n",
       "      <td>100.000000</td>\n",
       "      <td>0.387500</td>\n",
       "      <td>390.15</td>\n",
       "      <td>...</td>\n",
       "      <td>0.111111</td>\n",
       "      <td>100583.870968</td>\n",
       "      <td>1.0</td>\n",
       "      <td>0.0</td>\n",
       "      <td>0.0</td>\n",
       "      <td>0.0</td>\n",
       "      <td>0.0</td>\n",
       "      <td>0.0</td>\n",
       "      <td>0.0</td>\n",
       "      <td>0.0</td>\n",
       "    </tr>\n",
       "    <tr>\n",
       "      <th>3</th>\n",
       "      <td>7.50</td>\n",
       "      <td>59</td>\n",
       "      <td>2.3125</td>\n",
       "      <td>0.039195</td>\n",
       "      <td>401</td>\n",
       "      <td>14.713217</td>\n",
       "      <td>2.000000</td>\n",
       "      <td>3.389831</td>\n",
       "      <td>1.156250</td>\n",
       "      <td>1665.15</td>\n",
       "      <td>...</td>\n",
       "      <td>0.004988</td>\n",
       "      <td>71906.491546</td>\n",
       "      <td>0.0</td>\n",
       "      <td>0.0</td>\n",
       "      <td>0.0</td>\n",
       "      <td>0.0</td>\n",
       "      <td>0.0</td>\n",
       "      <td>0.0</td>\n",
       "      <td>0.0</td>\n",
       "      <td>0.0</td>\n",
       "    </tr>\n",
       "    <tr>\n",
       "      <th>4</th>\n",
       "      <td>0.25</td>\n",
       "      <td>8</td>\n",
       "      <td>2.2000</td>\n",
       "      <td>0.275000</td>\n",
       "      <td>318</td>\n",
       "      <td>2.515723</td>\n",
       "      <td>2.975786</td>\n",
       "      <td>12.500000</td>\n",
       "      <td>2.200000</td>\n",
       "      <td>935.00</td>\n",
       "      <td>...</td>\n",
       "      <td>0.003145</td>\n",
       "      <td>42400.000000</td>\n",
       "      <td>0.0</td>\n",
       "      <td>0.0</td>\n",
       "      <td>0.0</td>\n",
       "      <td>0.0</td>\n",
       "      <td>0.0</td>\n",
       "      <td>0.0</td>\n",
       "      <td>0.0</td>\n",
       "      <td>1.0</td>\n",
       "    </tr>\n",
       "  </tbody>\n",
       "</table>\n",
       "<p>5 rows × 23 columns</p>\n",
       "</div>"
      ],
      "text/plain": [
       "   Search Engine Bid  Clicks  Click Charges  Avg. Cost per Click  Impressions  \\\n",
       "0               6.25       1         2.3125             2.312500           11   \n",
       "1               6.25       1         0.6250             0.625000            6   \n",
       "2               0.00       1         0.3875             0.387500            9   \n",
       "3               7.50      59         2.3125             0.039195          401   \n",
       "4               0.25       8         2.2000             0.275000          318   \n",
       "\n",
       "   Engine Click Thru %  Avg. Pos.  Trans. Conv. %  Total Cost/ Trans.  \\\n",
       "0             9.090909   1.272727      900.000000            0.256944   \n",
       "1            16.666667   1.000000      100.000000            0.625000   \n",
       "2            11.111111   1.111111      100.000000            0.387500   \n",
       "3            14.713217   2.000000        3.389831            1.156250   \n",
       "4             2.515723   2.975786       12.500000            2.200000   \n",
       "\n",
       "    Amount  ...  Probability of Booking            ROA  match_dum  pub_dum  \\\n",
       "0  8777.95  ...                0.818182  379487.027027        0.0      0.0   \n",
       "1  1574.20  ...                0.166667  251772.000000        0.0      0.0   \n",
       "2   390.15  ...                0.111111  100583.870968        1.0      0.0   \n",
       "3  1665.15  ...                0.004988   71906.491546        0.0      0.0   \n",
       "4   935.00  ...                0.003145   42400.000000        0.0      0.0   \n",
       "\n",
       "   camp_dum  keyword_dum  keygroup_dum  cat_dum  bids_dum  status_dum  \n",
       "0       0.0          0.0           0.0      0.0       0.0         0.0  \n",
       "1       0.0          0.0           0.0      0.0       0.0         1.0  \n",
       "2       0.0          0.0           0.0      0.0       0.0         0.0  \n",
       "3       0.0          0.0           0.0      0.0       0.0         0.0  \n",
       "4       0.0          0.0           0.0      0.0       0.0         1.0  \n",
       "\n",
       "[5 rows x 23 columns]"
      ]
     },
     "execution_count": 335,
     "metadata": {},
     "output_type": "execute_result"
    }
   ],
   "source": [
    "data.head()"
   ]
  },
  {
   "cell_type": "code",
   "execution_count": 336,
   "metadata": {},
   "outputs": [
    {
     "data": {
      "text/plain": [
       "<matplotlib.axes._subplots.AxesSubplot at 0x1f13ed1b070>"
      ]
     },
     "execution_count": 336,
     "metadata": {},
     "output_type": "execute_result"
    },
    {
     "data": {
      "image/png": "[encoded data removed]",
      "text/plain": [
       "<Figure size 432x288 with 1 Axes>"
      ]
     },
     "metadata": {
      "needs_background": "light"
     },
     "output_type": "display_data"
    }
   ],
   "source": [
    "sns.heatmap(data.isnull(),yticklabels = False, cbar = False, cmap = 'viridis')"
   ]
  },
  {
   "cell_type": "markdown",
   "metadata": {},
   "source": [
    "## Multicolinearity issue "
   ]
  },
  {
   "cell_type": "code",
   "execution_count": 337,
   "metadata": {},
   "outputs": [],
   "source": [
    "x = data.drop(['Total Cost'], axis=1)"
   ]
  },
  {
   "cell_type": "code",
   "execution_count": 338,
   "metadata": {},
   "outputs": [
    {
     "data": {
      "text/plain": [
       "Index(['Search Engine Bid', 'Clicks', 'Click Charges', 'Avg. Cost per Click',\n",
       "       'Impressions', 'Engine Click Thru %', 'Avg. Pos.', 'Trans. Conv. %',\n",
       "       'Total Cost/ Trans.', 'Amount', 'Total Volume of Bookings',\n",
       "       'Net Revenue', 'Probability of Booking', 'ROA', 'match_dum', 'pub_dum',\n",
       "       'camp_dum', 'keyword_dum', 'keygroup_dum', 'cat_dum', 'bids_dum',\n",
       "       'status_dum'],\n",
       "      dtype='object')"
      ]
     },
     "execution_count": 338,
     "metadata": {},
     "output_type": "execute_result"
    }
   ],
   "source": [
    "x.columns"
   ]
  },
  {
   "cell_type": "code",
   "execution_count": 339,
   "metadata": {},
   "outputs": [
    {
     "data": {
      "text/html": [
       "<div>\n",
       "<style scoped>\n",
       "    .dataframe tbody tr th:only-of-type {\n",
       "        vertical-align: middle;\n",
       "    }\n",
       "\n",
       "    .dataframe tbody tr th {\n",
       "        vertical-align: top;\n",
       "    }\n",
       "\n",
       "    .dataframe thead th {\n",
       "        text-align: right;\n",
       "    }\n",
       "</style>\n",
       "<table border=\"1\" class=\"dataframe\">\n",
       "  <thead>\n",
       "    <tr style=\"text-align: right;\">\n",
       "      <th></th>\n",
       "      <th>Search Engine Bid</th>\n",
       "      <th>Clicks</th>\n",
       "      <th>Click Charges</th>\n",
       "      <th>Avg. Cost per Click</th>\n",
       "      <th>Impressions</th>\n",
       "      <th>Engine Click Thru %</th>\n",
       "      <th>Avg. Pos.</th>\n",
       "      <th>Trans. Conv. %</th>\n",
       "      <th>Total Cost/ Trans.</th>\n",
       "      <th>Amount</th>\n",
       "      <th>...</th>\n",
       "      <th>Probability of Booking</th>\n",
       "      <th>ROA</th>\n",
       "      <th>match_dum</th>\n",
       "      <th>pub_dum</th>\n",
       "      <th>camp_dum</th>\n",
       "      <th>keyword_dum</th>\n",
       "      <th>keygroup_dum</th>\n",
       "      <th>cat_dum</th>\n",
       "      <th>bids_dum</th>\n",
       "      <th>status_dum</th>\n",
       "    </tr>\n",
       "  </thead>\n",
       "  <tbody>\n",
       "    <tr>\n",
       "      <th>Search Engine Bid</th>\n",
       "      <td>1.000000</td>\n",
       "      <td>0.114934</td>\n",
       "      <td>0.113212</td>\n",
       "      <td>0.280368</td>\n",
       "      <td>0.023738</td>\n",
       "      <td>0.147721</td>\n",
       "      <td>-0.267877</td>\n",
       "      <td>0.002874</td>\n",
       "      <td>0.039652</td>\n",
       "      <td>0.107165</td>\n",
       "      <td>...</td>\n",
       "      <td>0.008993</td>\n",
       "      <td>-0.005297</td>\n",
       "      <td>0.263215</td>\n",
       "      <td>0.366561</td>\n",
       "      <td>0.135378</td>\n",
       "      <td>0.051558</td>\n",
       "      <td>-0.016651</td>\n",
       "      <td>-0.021807</td>\n",
       "      <td>0.011497</td>\n",
       "      <td>-0.071618</td>\n",
       "    </tr>\n",
       "    <tr>\n",
       "      <th>Clicks</th>\n",
       "      <td>0.114934</td>\n",
       "      <td>1.000000</td>\n",
       "      <td>0.868330</td>\n",
       "      <td>-0.033787</td>\n",
       "      <td>0.400361</td>\n",
       "      <td>-0.014000</td>\n",
       "      <td>-0.021096</td>\n",
       "      <td>0.001533</td>\n",
       "      <td>0.192615</td>\n",
       "      <td>0.830764</td>\n",
       "      <td>...</td>\n",
       "      <td>0.002635</td>\n",
       "      <td>0.015593</td>\n",
       "      <td>-0.027534</td>\n",
       "      <td>-0.018170</td>\n",
       "      <td>0.223024</td>\n",
       "      <td>0.310210</td>\n",
       "      <td>0.202267</td>\n",
       "      <td>0.180153</td>\n",
       "      <td>-0.072921</td>\n",
       "      <td>-0.055217</td>\n",
       "    </tr>\n",
       "    <tr>\n",
       "      <th>Click Charges</th>\n",
       "      <td>0.113212</td>\n",
       "      <td>0.868330</td>\n",
       "      <td>1.000000</td>\n",
       "      <td>0.029171</td>\n",
       "      <td>0.431231</td>\n",
       "      <td>-0.027310</td>\n",
       "      <td>-0.018533</td>\n",
       "      <td>-0.000401</td>\n",
       "      <td>0.333614</td>\n",
       "      <td>0.549963</td>\n",
       "      <td>...</td>\n",
       "      <td>-0.000769</td>\n",
       "      <td>0.003013</td>\n",
       "      <td>0.011518</td>\n",
       "      <td>0.002254</td>\n",
       "      <td>0.171297</td>\n",
       "      <td>0.311790</td>\n",
       "      <td>0.146510</td>\n",
       "      <td>0.198898</td>\n",
       "      <td>-0.065040</td>\n",
       "      <td>-0.051535</td>\n",
       "    </tr>\n",
       "    <tr>\n",
       "      <th>Avg. Cost per Click</th>\n",
       "      <td>0.280368</td>\n",
       "      <td>-0.033787</td>\n",
       "      <td>0.029171</td>\n",
       "      <td>1.000000</td>\n",
       "      <td>-0.016912</td>\n",
       "      <td>0.106898</td>\n",
       "      <td>-0.113344</td>\n",
       "      <td>0.003308</td>\n",
       "      <td>0.058178</td>\n",
       "      <td>-0.047568</td>\n",
       "      <td>...</td>\n",
       "      <td>0.004340</td>\n",
       "      <td>-0.033836</td>\n",
       "      <td>0.446351</td>\n",
       "      <td>0.344067</td>\n",
       "      <td>-0.094192</td>\n",
       "      <td>-0.023248</td>\n",
       "      <td>-0.049599</td>\n",
       "      <td>0.002358</td>\n",
       "      <td>0.146492</td>\n",
       "      <td>-0.088568</td>\n",
       "    </tr>\n",
       "    <tr>\n",
       "      <th>Impressions</th>\n",
       "      <td>0.023738</td>\n",
       "      <td>0.400361</td>\n",
       "      <td>0.431231</td>\n",
       "      <td>-0.016912</td>\n",
       "      <td>1.000000</td>\n",
       "      <td>-0.026821</td>\n",
       "      <td>-0.005288</td>\n",
       "      <td>-0.001338</td>\n",
       "      <td>0.201258</td>\n",
       "      <td>0.104770</td>\n",
       "      <td>...</td>\n",
       "      <td>-0.002120</td>\n",
       "      <td>-0.000827</td>\n",
       "      <td>-0.050687</td>\n",
       "      <td>-0.040313</td>\n",
       "      <td>0.006065</td>\n",
       "      <td>0.029018</td>\n",
       "      <td>0.004310</td>\n",
       "      <td>0.214128</td>\n",
       "      <td>-0.044665</td>\n",
       "      <td>-0.026003</td>\n",
       "    </tr>\n",
       "    <tr>\n",
       "      <th>Engine Click Thru %</th>\n",
       "      <td>0.147721</td>\n",
       "      <td>-0.014000</td>\n",
       "      <td>-0.027310</td>\n",
       "      <td>0.106898</td>\n",
       "      <td>-0.026821</td>\n",
       "      <td>1.000000</td>\n",
       "      <td>-0.221802</td>\n",
       "      <td>0.001666</td>\n",
       "      <td>-0.040646</td>\n",
       "      <td>0.008413</td>\n",
       "      <td>...</td>\n",
       "      <td>0.028059</td>\n",
       "      <td>0.000861</td>\n",
       "      <td>0.158880</td>\n",
       "      <td>0.179824</td>\n",
       "      <td>0.012107</td>\n",
       "      <td>-0.005405</td>\n",
       "      <td>0.001013</td>\n",
       "      <td>-0.026151</td>\n",
       "      <td>0.086530</td>\n",
       "      <td>-0.069355</td>\n",
       "    </tr>\n",
       "    <tr>\n",
       "      <th>Avg. Pos.</th>\n",
       "      <td>-0.267877</td>\n",
       "      <td>-0.021096</td>\n",
       "      <td>-0.018533</td>\n",
       "      <td>-0.113344</td>\n",
       "      <td>-0.005288</td>\n",
       "      <td>-0.221802</td>\n",
       "      <td>1.000000</td>\n",
       "      <td>-0.013475</td>\n",
       "      <td>-0.012189</td>\n",
       "      <td>-0.030424</td>\n",
       "      <td>...</td>\n",
       "      <td>-0.024613</td>\n",
       "      <td>-0.024858</td>\n",
       "      <td>-0.144299</td>\n",
       "      <td>-0.040130</td>\n",
       "      <td>-0.078017</td>\n",
       "      <td>-0.022521</td>\n",
       "      <td>-0.063363</td>\n",
       "      <td>0.029691</td>\n",
       "      <td>0.122268</td>\n",
       "      <td>0.078900</td>\n",
       "    </tr>\n",
       "    <tr>\n",
       "      <th>Trans. Conv. %</th>\n",
       "      <td>0.002874</td>\n",
       "      <td>0.001533</td>\n",
       "      <td>-0.000401</td>\n",
       "      <td>0.003308</td>\n",
       "      <td>-0.001338</td>\n",
       "      <td>0.001666</td>\n",
       "      <td>-0.013475</td>\n",
       "      <td>1.000000</td>\n",
       "      <td>-0.000528</td>\n",
       "      <td>0.014417</td>\n",
       "      <td>...</td>\n",
       "      <td>0.889333</td>\n",
       "      <td>0.856458</td>\n",
       "      <td>-0.008830</td>\n",
       "      <td>-0.010268</td>\n",
       "      <td>0.011584</td>\n",
       "      <td>0.001267</td>\n",
       "      <td>0.006289</td>\n",
       "      <td>-0.000074</td>\n",
       "      <td>-0.019437</td>\n",
       "      <td>-0.025681</td>\n",
       "    </tr>\n",
       "    <tr>\n",
       "      <th>Total Cost/ Trans.</th>\n",
       "      <td>0.039652</td>\n",
       "      <td>0.192615</td>\n",
       "      <td>0.333614</td>\n",
       "      <td>0.058178</td>\n",
       "      <td>0.201258</td>\n",
       "      <td>-0.040646</td>\n",
       "      <td>-0.012189</td>\n",
       "      <td>-0.000528</td>\n",
       "      <td>1.000000</td>\n",
       "      <td>0.035870</td>\n",
       "      <td>...</td>\n",
       "      <td>-0.002432</td>\n",
       "      <td>-0.002331</td>\n",
       "      <td>0.019405</td>\n",
       "      <td>-0.010142</td>\n",
       "      <td>0.010681</td>\n",
       "      <td>0.017557</td>\n",
       "      <td>0.015127</td>\n",
       "      <td>0.027309</td>\n",
       "      <td>-0.086013</td>\n",
       "      <td>-0.032453</td>\n",
       "    </tr>\n",
       "    <tr>\n",
       "      <th>Amount</th>\n",
       "      <td>0.107165</td>\n",
       "      <td>0.830764</td>\n",
       "      <td>0.549963</td>\n",
       "      <td>-0.047568</td>\n",
       "      <td>0.104770</td>\n",
       "      <td>0.008413</td>\n",
       "      <td>-0.030424</td>\n",
       "      <td>0.014417</td>\n",
       "      <td>0.035870</td>\n",
       "      <td>1.000000</td>\n",
       "      <td>...</td>\n",
       "      <td>0.015723</td>\n",
       "      <td>0.037796</td>\n",
       "      <td>-0.020979</td>\n",
       "      <td>-0.011773</td>\n",
       "      <td>0.267516</td>\n",
       "      <td>0.285619</td>\n",
       "      <td>0.220949</td>\n",
       "      <td>0.032033</td>\n",
       "      <td>-0.064020</td>\n",
       "      <td>-0.057116</td>\n",
       "    </tr>\n",
       "    <tr>\n",
       "      <th>Total Volume of Bookings</th>\n",
       "      <td>0.114730</td>\n",
       "      <td>0.827187</td>\n",
       "      <td>0.539573</td>\n",
       "      <td>-0.048201</td>\n",
       "      <td>0.092177</td>\n",
       "      <td>0.009194</td>\n",
       "      <td>-0.031914</td>\n",
       "      <td>0.017679</td>\n",
       "      <td>0.036950</td>\n",
       "      <td>0.994498</td>\n",
       "      <td>...</td>\n",
       "      <td>0.018974</td>\n",
       "      <td>0.039970</td>\n",
       "      <td>-0.018508</td>\n",
       "      <td>-0.009505</td>\n",
       "      <td>0.270971</td>\n",
       "      <td>0.277715</td>\n",
       "      <td>0.232771</td>\n",
       "      <td>0.023634</td>\n",
       "      <td>-0.066031</td>\n",
       "      <td>-0.057790</td>\n",
       "    </tr>\n",
       "    <tr>\n",
       "      <th>Net Revenue</th>\n",
       "      <td>0.101718</td>\n",
       "      <td>0.789419</td>\n",
       "      <td>0.482530</td>\n",
       "      <td>-0.052634</td>\n",
       "      <td>0.069241</td>\n",
       "      <td>0.011397</td>\n",
       "      <td>-0.030160</td>\n",
       "      <td>0.015157</td>\n",
       "      <td>0.006182</td>\n",
       "      <td>0.996899</td>\n",
       "      <td>...</td>\n",
       "      <td>0.016561</td>\n",
       "      <td>0.039354</td>\n",
       "      <td>-0.023087</td>\n",
       "      <td>-0.012559</td>\n",
       "      <td>0.264409</td>\n",
       "      <td>0.270155</td>\n",
       "      <td>0.217909</td>\n",
       "      <td>0.014852</td>\n",
       "      <td>-0.061011</td>\n",
       "      <td>-0.055043</td>\n",
       "    </tr>\n",
       "    <tr>\n",
       "      <th>Probability of Booking</th>\n",
       "      <td>0.008993</td>\n",
       "      <td>0.002635</td>\n",
       "      <td>-0.000769</td>\n",
       "      <td>0.004340</td>\n",
       "      <td>-0.002120</td>\n",
       "      <td>0.028059</td>\n",
       "      <td>-0.024613</td>\n",
       "      <td>0.889333</td>\n",
       "      <td>-0.002432</td>\n",
       "      <td>0.015723</td>\n",
       "      <td>...</td>\n",
       "      <td>1.000000</td>\n",
       "      <td>0.772060</td>\n",
       "      <td>0.004348</td>\n",
       "      <td>0.004651</td>\n",
       "      <td>0.014943</td>\n",
       "      <td>0.000451</td>\n",
       "      <td>0.006014</td>\n",
       "      <td>-0.002270</td>\n",
       "      <td>-0.004968</td>\n",
       "      <td>-0.020813</td>\n",
       "    </tr>\n",
       "    <tr>\n",
       "      <th>ROA</th>\n",
       "      <td>-0.005297</td>\n",
       "      <td>0.015593</td>\n",
       "      <td>0.003013</td>\n",
       "      <td>-0.033836</td>\n",
       "      <td>-0.000827</td>\n",
       "      <td>0.000861</td>\n",
       "      <td>-0.024858</td>\n",
       "      <td>0.856458</td>\n",
       "      <td>-0.002331</td>\n",
       "      <td>0.037796</td>\n",
       "      <td>...</td>\n",
       "      <td>0.772060</td>\n",
       "      <td>1.000000</td>\n",
       "      <td>-0.026293</td>\n",
       "      <td>-0.027760</td>\n",
       "      <td>0.047732</td>\n",
       "      <td>0.006184</td>\n",
       "      <td>0.014821</td>\n",
       "      <td>0.007580</td>\n",
       "      <td>-0.045927</td>\n",
       "      <td>-0.022541</td>\n",
       "    </tr>\n",
       "    <tr>\n",
       "      <th>match_dum</th>\n",
       "      <td>0.263215</td>\n",
       "      <td>-0.027534</td>\n",
       "      <td>0.011518</td>\n",
       "      <td>0.446351</td>\n",
       "      <td>-0.050687</td>\n",
       "      <td>0.158880</td>\n",
       "      <td>-0.144299</td>\n",
       "      <td>-0.008830</td>\n",
       "      <td>0.019405</td>\n",
       "      <td>-0.020979</td>\n",
       "      <td>...</td>\n",
       "      <td>0.004348</td>\n",
       "      <td>-0.026293</td>\n",
       "      <td>1.000000</td>\n",
       "      <td>0.739031</td>\n",
       "      <td>-0.010443</td>\n",
       "      <td>0.018385</td>\n",
       "      <td>0.055388</td>\n",
       "      <td>-0.060017</td>\n",
       "      <td>0.428379</td>\n",
       "      <td>-0.256916</td>\n",
       "    </tr>\n",
       "    <tr>\n",
       "      <th>pub_dum</th>\n",
       "      <td>0.366561</td>\n",
       "      <td>-0.018170</td>\n",
       "      <td>0.002254</td>\n",
       "      <td>0.344067</td>\n",
       "      <td>-0.040313</td>\n",
       "      <td>0.179824</td>\n",
       "      <td>-0.040130</td>\n",
       "      <td>-0.010268</td>\n",
       "      <td>-0.010142</td>\n",
       "      <td>-0.011773</td>\n",
       "      <td>...</td>\n",
       "      <td>0.004651</td>\n",
       "      <td>-0.027760</td>\n",
       "      <td>0.739031</td>\n",
       "      <td>1.000000</td>\n",
       "      <td>0.022842</td>\n",
       "      <td>-0.011294</td>\n",
       "      <td>-0.051474</td>\n",
       "      <td>-0.047595</td>\n",
       "      <td>0.667632</td>\n",
       "      <td>-0.031384</td>\n",
       "    </tr>\n",
       "    <tr>\n",
       "      <th>camp_dum</th>\n",
       "      <td>0.135378</td>\n",
       "      <td>0.223024</td>\n",
       "      <td>0.171297</td>\n",
       "      <td>-0.094192</td>\n",
       "      <td>0.006065</td>\n",
       "      <td>0.012107</td>\n",
       "      <td>-0.078017</td>\n",
       "      <td>0.011584</td>\n",
       "      <td>0.010681</td>\n",
       "      <td>0.267516</td>\n",
       "      <td>...</td>\n",
       "      <td>0.014943</td>\n",
       "      <td>0.047732</td>\n",
       "      <td>-0.010443</td>\n",
       "      <td>0.022842</td>\n",
       "      <td>1.000000</td>\n",
       "      <td>0.073010</td>\n",
       "      <td>0.347019</td>\n",
       "      <td>-0.006625</td>\n",
       "      <td>-0.125621</td>\n",
       "      <td>-0.132126</td>\n",
       "    </tr>\n",
       "    <tr>\n",
       "      <th>keyword_dum</th>\n",
       "      <td>0.051558</td>\n",
       "      <td>0.310210</td>\n",
       "      <td>0.311790</td>\n",
       "      <td>-0.023248</td>\n",
       "      <td>0.029018</td>\n",
       "      <td>-0.005405</td>\n",
       "      <td>-0.022521</td>\n",
       "      <td>0.001267</td>\n",
       "      <td>0.017557</td>\n",
       "      <td>0.285619</td>\n",
       "      <td>...</td>\n",
       "      <td>0.000451</td>\n",
       "      <td>0.006184</td>\n",
       "      <td>0.018385</td>\n",
       "      <td>-0.011294</td>\n",
       "      <td>0.073010</td>\n",
       "      <td>1.000000</td>\n",
       "      <td>0.208071</td>\n",
       "      <td>-0.002310</td>\n",
       "      <td>-0.043794</td>\n",
       "      <td>-0.030958</td>\n",
       "    </tr>\n",
       "    <tr>\n",
       "      <th>keygroup_dum</th>\n",
       "      <td>-0.016651</td>\n",
       "      <td>0.202267</td>\n",
       "      <td>0.146510</td>\n",
       "      <td>-0.049599</td>\n",
       "      <td>0.004310</td>\n",
       "      <td>0.001013</td>\n",
       "      <td>-0.063363</td>\n",
       "      <td>0.006289</td>\n",
       "      <td>0.015127</td>\n",
       "      <td>0.220949</td>\n",
       "      <td>...</td>\n",
       "      <td>0.006014</td>\n",
       "      <td>0.014821</td>\n",
       "      <td>0.055388</td>\n",
       "      <td>-0.051474</td>\n",
       "      <td>0.347019</td>\n",
       "      <td>0.208071</td>\n",
       "      <td>1.000000</td>\n",
       "      <td>-0.006098</td>\n",
       "      <td>-0.115627</td>\n",
       "      <td>-0.130824</td>\n",
       "    </tr>\n",
       "    <tr>\n",
       "      <th>cat_dum</th>\n",
       "      <td>-0.021807</td>\n",
       "      <td>0.180153</td>\n",
       "      <td>0.198898</td>\n",
       "      <td>0.002358</td>\n",
       "      <td>0.214128</td>\n",
       "      <td>-0.026151</td>\n",
       "      <td>0.029691</td>\n",
       "      <td>-0.000074</td>\n",
       "      <td>0.027309</td>\n",
       "      <td>0.032033</td>\n",
       "      <td>...</td>\n",
       "      <td>-0.002270</td>\n",
       "      <td>0.007580</td>\n",
       "      <td>-0.060017</td>\n",
       "      <td>-0.047595</td>\n",
       "      <td>-0.006625</td>\n",
       "      <td>-0.002310</td>\n",
       "      <td>-0.006098</td>\n",
       "      <td>1.000000</td>\n",
       "      <td>-0.016144</td>\n",
       "      <td>0.027917</td>\n",
       "    </tr>\n",
       "    <tr>\n",
       "      <th>bids_dum</th>\n",
       "      <td>0.011497</td>\n",
       "      <td>-0.072921</td>\n",
       "      <td>-0.065040</td>\n",
       "      <td>0.146492</td>\n",
       "      <td>-0.044665</td>\n",
       "      <td>0.086530</td>\n",
       "      <td>0.122268</td>\n",
       "      <td>-0.019437</td>\n",
       "      <td>-0.086013</td>\n",
       "      <td>-0.064020</td>\n",
       "      <td>...</td>\n",
       "      <td>-0.004968</td>\n",
       "      <td>-0.045927</td>\n",
       "      <td>0.428379</td>\n",
       "      <td>0.667632</td>\n",
       "      <td>-0.125621</td>\n",
       "      <td>-0.043794</td>\n",
       "      <td>-0.115627</td>\n",
       "      <td>-0.016144</td>\n",
       "      <td>1.000000</td>\n",
       "      <td>0.142787</td>\n",
       "    </tr>\n",
       "    <tr>\n",
       "      <th>status_dum</th>\n",
       "      <td>-0.071618</td>\n",
       "      <td>-0.055217</td>\n",
       "      <td>-0.051535</td>\n",
       "      <td>-0.088568</td>\n",
       "      <td>-0.026003</td>\n",
       "      <td>-0.069355</td>\n",
       "      <td>0.078900</td>\n",
       "      <td>-0.025681</td>\n",
       "      <td>-0.032453</td>\n",
       "      <td>-0.057116</td>\n",
       "      <td>...</td>\n",
       "      <td>-0.020813</td>\n",
       "      <td>-0.022541</td>\n",
       "      <td>-0.256916</td>\n",
       "      <td>-0.031384</td>\n",
       "      <td>-0.132126</td>\n",
       "      <td>-0.030958</td>\n",
       "      <td>-0.130824</td>\n",
       "      <td>0.027917</td>\n",
       "      <td>0.142787</td>\n",
       "      <td>1.000000</td>\n",
       "    </tr>\n",
       "  </tbody>\n",
       "</table>\n",
       "<p>22 rows × 22 columns</p>\n",
       "</div>"
      ],
      "text/plain": [
       "                          Search Engine Bid    Clicks  Click Charges  \\\n",
       "Search Engine Bid                  1.000000  0.114934       0.113212   \n",
       "Clicks                             0.114934  1.000000       0.868330   \n",
       "Click Charges                      0.113212  0.868330       1.000000   \n",
       "Avg. Cost per Click                0.280368 -0.033787       0.029171   \n",
       "Impressions                        0.023738  0.400361       0.431231   \n",
       "Engine Click Thru %                0.147721 -0.014000      -0.027310   \n",
       "Avg. Pos.                         -0.267877 -0.021096      -0.018533   \n",
       "Trans. Conv. %                     0.002874  0.001533      -0.000401   \n",
       "Total Cost/ Trans.                 0.039652  0.192615       0.333614   \n",
       "Amount                             0.107165  0.830764       0.549963   \n",
       "Total Volume of Bookings           0.114730  0.827187       0.539573   \n",
       "Net Revenue                        0.101718  0.789419       0.482530   \n",
       "Probability of Booking             0.008993  0.002635      -0.000769   \n",
       "ROA                               -0.005297  0.015593       0.003013   \n",
       "match_dum                          0.263215 -0.027534       0.011518   \n",
       "pub_dum                            0.366561 -0.018170       0.002254   \n",
       "camp_dum                           0.135378  0.223024       0.171297   \n",
       "keyword_dum                        0.051558  0.310210       0.311790   \n",
       "keygroup_dum                      -0.016651  0.202267       0.146510   \n",
       "cat_dum                           -0.021807  0.180153       0.198898   \n",
       "bids_dum                           0.011497 -0.072921      -0.065040   \n",
       "status_dum                        -0.071618 -0.055217      -0.051535   \n",
       "\n",
       "                          Avg. Cost per Click  Impressions  \\\n",
       "Search Engine Bid                    0.280368     0.023738   \n",
       "Clicks                              -0.033787     0.400361   \n",
       "Click Charges                        0.029171     0.431231   \n",
       "Avg. Cost per Click                  1.000000    -0.016912   \n",
       "Impressions                         -0.016912     1.000000   \n",
       "Engine Click Thru %                  0.106898    -0.026821   \n",
       "Avg. Pos.                           -0.113344    -0.005288   \n",
       "Trans. Conv. %                       0.003308    -0.001338   \n",
       "Total Cost/ Trans.                   0.058178     0.201258   \n",
       "Amount                              -0.047568     0.104770   \n",
       "Total Volume of Bookings            -0.048201     0.092177   \n",
       "Net Revenue                         -0.052634     0.069241   \n",
       "Probability of Booking               0.004340    -0.002120   \n",
       "ROA                                 -0.033836    -0.000827   \n",
       "match_dum                            0.446351    -0.050687   \n",
       "pub_dum                              0.344067    -0.040313   \n",
       "camp_dum                            -0.094192     0.006065   \n",
       "keyword_dum                         -0.023248     0.029018   \n",
       "keygroup_dum                        -0.049599     0.004310   \n",
       "cat_dum                              0.002358     0.214128   \n",
       "bids_dum                             0.146492    -0.044665   \n",
       "status_dum                          -0.088568    -0.026003   \n",
       "\n",
       "                          Engine Click Thru %  Avg. Pos.  Trans. Conv. %  \\\n",
       "Search Engine Bid                    0.147721  -0.267877        0.002874   \n",
       "Clicks                              -0.014000  -0.021096        0.001533   \n",
       "Click Charges                       -0.027310  -0.018533       -0.000401   \n",
       "Avg. Cost per Click                  0.106898  -0.113344        0.003308   \n",
       "Impressions                         -0.026821  -0.005288       -0.001338   \n",
       "Engine Click Thru %                  1.000000  -0.221802        0.001666   \n",
       "Avg. Pos.                           -0.221802   1.000000       -0.013475   \n",
       "Trans. Conv. %                       0.001666  -0.013475        1.000000   \n",
       "Total Cost/ Trans.                  -0.040646  -0.012189       -0.000528   \n",
       "Amount                               0.008413  -0.030424        0.014417   \n",
       "Total Volume of Bookings             0.009194  -0.031914        0.017679   \n",
       "Net Revenue                          0.011397  -0.030160        0.015157   \n",
       "Probability of Booking               0.028059  -0.024613        0.889333   \n",
       "ROA                                  0.000861  -0.024858        0.856458   \n",
       "match_dum                            0.158880  -0.144299       -0.008830   \n",
       "pub_dum                              0.179824  -0.040130       -0.010268   \n",
       "camp_dum                             0.012107  -0.078017        0.011584   \n",
       "keyword_dum                         -0.005405  -0.022521        0.001267   \n",
       "keygroup_dum                         0.001013  -0.063363        0.006289   \n",
       "cat_dum                             -0.026151   0.029691       -0.000074   \n",
       "bids_dum                             0.086530   0.122268       -0.019437   \n",
       "status_dum                          -0.069355   0.078900       -0.025681   \n",
       "\n",
       "                          Total Cost/ Trans.    Amount  ...  \\\n",
       "Search Engine Bid                   0.039652  0.107165  ...   \n",
       "Clicks                              0.192615  0.830764  ...   \n",
       "Click Charges                       0.333614  0.549963  ...   \n",
       "Avg. Cost per Click                 0.058178 -0.047568  ...   \n",
       "Impressions                         0.201258  0.104770  ...   \n",
       "Engine Click Thru %                -0.040646  0.008413  ...   \n",
       "Avg. Pos.                          -0.012189 -0.030424  ...   \n",
       "Trans. Conv. %                     -0.000528  0.014417  ...   \n",
       "Total Cost/ Trans.                  1.000000  0.035870  ...   \n",
       "Amount                              0.035870  1.000000  ...   \n",
       "Total Volume of Bookings            0.036950  0.994498  ...   \n",
       "Net Revenue                         0.006182  0.996899  ...   \n",
       "Probability of Booking             -0.002432  0.015723  ...   \n",
       "ROA                                -0.002331  0.037796  ...   \n",
       "match_dum                           0.019405 -0.020979  ...   \n",
       "pub_dum                            -0.010142 -0.011773  ...   \n",
       "camp_dum                            0.010681  0.267516  ...   \n",
       "keyword_dum                         0.017557  0.285619  ...   \n",
       "keygroup_dum                        0.015127  0.220949  ...   \n",
       "cat_dum                             0.027309  0.032033  ...   \n",
       "bids_dum                           -0.086013 -0.064020  ...   \n",
       "status_dum                         -0.032453 -0.057116  ...   \n",
       "\n",
       "                          Probability of Booking       ROA  match_dum  \\\n",
       "Search Engine Bid                       0.008993 -0.005297   0.263215   \n",
       "Clicks                                  0.002635  0.015593  -0.027534   \n",
       "Click Charges                          -0.000769  0.003013   0.011518   \n",
       "Avg. Cost per Click                     0.004340 -0.033836   0.446351   \n",
       "Impressions                            -0.002120 -0.000827  -0.050687   \n",
       "Engine Click Thru %                     0.028059  0.000861   0.158880   \n",
       "Avg. Pos.                              -0.024613 -0.024858  -0.144299   \n",
       "Trans. Conv. %                          0.889333  0.856458  -0.008830   \n",
       "Total Cost/ Trans.                     -0.002432 -0.002331   0.019405   \n",
       "Amount                                  0.015723  0.037796  -0.020979   \n",
       "Total Volume of Bookings                0.018974  0.039970  -0.018508   \n",
       "Net Revenue                             0.016561  0.039354  -0.023087   \n",
       "Probability of Booking                  1.000000  0.772060   0.004348   \n",
       "ROA                                     0.772060  1.000000  -0.026293   \n",
       "match_dum                               0.004348 -0.026293   1.000000   \n",
       "pub_dum                                 0.004651 -0.027760   0.739031   \n",
       "camp_dum                                0.014943  0.047732  -0.010443   \n",
       "keyword_dum                             0.000451  0.006184   0.018385   \n",
       "keygroup_dum                            0.006014  0.014821   0.055388   \n",
       "cat_dum                                -0.002270  0.007580  -0.060017   \n",
       "bids_dum                               -0.004968 -0.045927   0.428379   \n",
       "status_dum                             -0.020813 -0.022541  -0.256916   \n",
       "\n",
       "                           pub_dum  camp_dum  keyword_dum  keygroup_dum  \\\n",
       "Search Engine Bid         0.366561  0.135378     0.051558     -0.016651   \n",
       "Clicks                   -0.018170  0.223024     0.310210      0.202267   \n",
       "Click Charges             0.002254  0.171297     0.311790      0.146510   \n",
       "Avg. Cost per Click       0.344067 -0.094192    -0.023248     -0.049599   \n",
       "Impressions              -0.040313  0.006065     0.029018      0.004310   \n",
       "Engine Click Thru %       0.179824  0.012107    -0.005405      0.001013   \n",
       "Avg. Pos.                -0.040130 -0.078017    -0.022521     -0.063363   \n",
       "Trans. Conv. %           -0.010268  0.011584     0.001267      0.006289   \n",
       "Total Cost/ Trans.       -0.010142  0.010681     0.017557      0.015127   \n",
       "Amount                   -0.011773  0.267516     0.285619      0.220949   \n",
       "Total Volume of Bookings -0.009505  0.270971     0.277715      0.232771   \n",
       "Net Revenue              -0.012559  0.264409     0.270155      0.217909   \n",
       "Probability of Booking    0.004651  0.014943     0.000451      0.006014   \n",
       "ROA                      -0.027760  0.047732     0.006184      0.014821   \n",
       "match_dum                 0.739031 -0.010443     0.018385      0.055388   \n",
       "pub_dum                   1.000000  0.022842    -0.011294     -0.051474   \n",
       "camp_dum                  0.022842  1.000000     0.073010      0.347019   \n",
       "keyword_dum              -0.011294  0.073010     1.000000      0.208071   \n",
       "keygroup_dum             -0.051474  0.347019     0.208071      1.000000   \n",
       "cat_dum                  -0.047595 -0.006625    -0.002310     -0.006098   \n",
       "bids_dum                  0.667632 -0.125621    -0.043794     -0.115627   \n",
       "status_dum               -0.031384 -0.132126    -0.030958     -0.130824   \n",
       "\n",
       "                           cat_dum  bids_dum  status_dum  \n",
       "Search Engine Bid        -0.021807  0.011497   -0.071618  \n",
       "Clicks                    0.180153 -0.072921   -0.055217  \n",
       "Click Charges             0.198898 -0.065040   -0.051535  \n",
       "Avg. Cost per Click       0.002358  0.146492   -0.088568  \n",
       "Impressions               0.214128 -0.044665   -0.026003  \n",
       "Engine Click Thru %      -0.026151  0.086530   -0.069355  \n",
       "Avg. Pos.                 0.029691  0.122268    0.078900  \n",
       "Trans. Conv. %           -0.000074 -0.019437   -0.025681  \n",
       "Total Cost/ Trans.        0.027309 -0.086013   -0.032453  \n",
       "Amount                    0.032033 -0.064020   -0.057116  \n",
       "Total Volume of Bookings  0.023634 -0.066031   -0.057790  \n",
       "Net Revenue               0.014852 -0.061011   -0.055043  \n",
       "Probability of Booking   -0.002270 -0.004968   -0.020813  \n",
       "ROA                       0.007580 -0.045927   -0.022541  \n",
       "match_dum                -0.060017  0.428379   -0.256916  \n",
       "pub_dum                  -0.047595  0.667632   -0.031384  \n",
       "camp_dum                 -0.006625 -0.125621   -0.132126  \n",
       "keyword_dum              -0.002310 -0.043794   -0.030958  \n",
       "keygroup_dum             -0.006098 -0.115627   -0.130824  \n",
       "cat_dum                   1.000000 -0.016144    0.027917  \n",
       "bids_dum                 -0.016144  1.000000    0.142787  \n",
       "status_dum                0.027917  0.142787    1.000000  \n",
       "\n",
       "[22 rows x 22 columns]"
      ]
     },
     "execution_count": 339,
     "metadata": {},
     "output_type": "execute_result"
    }
   ],
   "source": [
    "dcor = x.corr()\n",
    "dcor"
   ]
  },
  {
   "cell_type": "code",
   "execution_count": 340,
   "metadata": {},
   "outputs": [
    {
     "data": {
      "text/plain": [
       "<matplotlib.axes._subplots.AxesSubplot at 0x1f13ef44be0>"
      ]
     },
     "execution_count": 340,
     "metadata": {},
     "output_type": "execute_result"
    },
    {
     "data": {
      "image/png": "[encoded data removed]",
      "text/plain": [
       "<Figure size 792x648 with 2 Axes>"
      ]
     },
     "metadata": {
      "needs_background": "light"
     },
     "output_type": "display_data"
    }
   ],
   "source": [
    "dcor = x.corr()\n",
    "\n",
    "mask = np.triu(np.ones_like(dcor, dtype=bool))\n",
    "f, ax = plt.subplots(figsize=(11, 9))\n",
    "cmap = sns.diverging_palette(230, 20, as_cmap=True)\n",
    "sns.heatmap(dcor, mask=mask, cmap=cmap, vmax=1, vmin = -1, center=0, square=True, linewidths=.5, cbar_kws={\"shrink\": .5})"
   ]
  },
  {
   "cell_type": "markdown",
   "metadata": {},
   "source": [
    "Most of our variables are not correlated with each other, which is beneficial to our analysis as each variable provides a unique perspective. \n",
    "When variables have a correlational coefficient greater than or equal to 0.80, they are usually considered strongly correlated. The following variables have correlational coefficients greater or equal to 0.80:\n",
    "\n",
    "-Click Charges and Clicks\n",
    "\n",
    "-Amount and Clicks\n",
    "\n",
    "-Total Volume of Booking and Clicks\n",
    "\n",
    "-Net Revenue and Clicks\n",
    "\n",
    "-Trans. Conv % with Return on Ad  \n",
    "\n",
    "-Trans. Conv % with Probability of Booking \n",
    "\n",
    "-Amount and Total Volume of Bookings\n",
    "\n",
    "-Net Revenue and Amount\n",
    "\n",
    "-Net Revenue and Total Volume of Bookings\n"
   ]
  },
  {
   "cell_type": "code",
   "execution_count": 341,
   "metadata": {},
   "outputs": [],
   "source": [
    "ivs=data[['Impressions','Clicks','Trans. Conv. %', 'Avg. Pos.', 'Total Volume of Bookings','Probability of Booking','match_dum','pub_dum','camp_dum','keyword_dum','keygroup_dum','cat_dum','bids_dum','status_dum']]\n"
   ]
  },
  {
   "cell_type": "code",
   "execution_count": 342,
   "metadata": {},
   "outputs": [
    {
     "data": {
      "text/html": [
       "<div>\n",
       "<style scoped>\n",
       "    .dataframe tbody tr th:only-of-type {\n",
       "        vertical-align: middle;\n",
       "    }\n",
       "\n",
       "    .dataframe tbody tr th {\n",
       "        vertical-align: top;\n",
       "    }\n",
       "\n",
       "    .dataframe thead th {\n",
       "        text-align: right;\n",
       "    }\n",
       "</style>\n",
       "<table border=\"1\" class=\"dataframe\">\n",
       "  <thead>\n",
       "    <tr style=\"text-align: right;\">\n",
       "      <th></th>\n",
       "      <th>Impressions</th>\n",
       "      <th>Clicks</th>\n",
       "      <th>Trans. Conv. %</th>\n",
       "      <th>Avg. Pos.</th>\n",
       "      <th>Total Volume of Bookings</th>\n",
       "      <th>Probability of Booking</th>\n",
       "      <th>match_dum</th>\n",
       "      <th>pub_dum</th>\n",
       "      <th>camp_dum</th>\n",
       "      <th>keyword_dum</th>\n",
       "      <th>keygroup_dum</th>\n",
       "      <th>cat_dum</th>\n",
       "      <th>bids_dum</th>\n",
       "      <th>status_dum</th>\n",
       "    </tr>\n",
       "  </thead>\n",
       "  <tbody>\n",
       "    <tr>\n",
       "      <th>0</th>\n",
       "      <td>11</td>\n",
       "      <td>1</td>\n",
       "      <td>900.000000</td>\n",
       "      <td>1.272727</td>\n",
       "      <td>9</td>\n",
       "      <td>0.818182</td>\n",
       "      <td>0.0</td>\n",
       "      <td>0.0</td>\n",
       "      <td>0.0</td>\n",
       "      <td>0.0</td>\n",
       "      <td>0.0</td>\n",
       "      <td>0.0</td>\n",
       "      <td>0.0</td>\n",
       "      <td>0.0</td>\n",
       "    </tr>\n",
       "    <tr>\n",
       "      <th>1</th>\n",
       "      <td>6</td>\n",
       "      <td>1</td>\n",
       "      <td>100.000000</td>\n",
       "      <td>1.000000</td>\n",
       "      <td>1</td>\n",
       "      <td>0.166667</td>\n",
       "      <td>0.0</td>\n",
       "      <td>0.0</td>\n",
       "      <td>0.0</td>\n",
       "      <td>0.0</td>\n",
       "      <td>0.0</td>\n",
       "      <td>0.0</td>\n",
       "      <td>0.0</td>\n",
       "      <td>1.0</td>\n",
       "    </tr>\n",
       "    <tr>\n",
       "      <th>2</th>\n",
       "      <td>9</td>\n",
       "      <td>1</td>\n",
       "      <td>100.000000</td>\n",
       "      <td>1.111111</td>\n",
       "      <td>1</td>\n",
       "      <td>0.111111</td>\n",
       "      <td>1.0</td>\n",
       "      <td>0.0</td>\n",
       "      <td>0.0</td>\n",
       "      <td>0.0</td>\n",
       "      <td>0.0</td>\n",
       "      <td>0.0</td>\n",
       "      <td>0.0</td>\n",
       "      <td>0.0</td>\n",
       "    </tr>\n",
       "    <tr>\n",
       "      <th>3</th>\n",
       "      <td>401</td>\n",
       "      <td>59</td>\n",
       "      <td>3.389831</td>\n",
       "      <td>2.000000</td>\n",
       "      <td>2</td>\n",
       "      <td>0.004988</td>\n",
       "      <td>0.0</td>\n",
       "      <td>0.0</td>\n",
       "      <td>0.0</td>\n",
       "      <td>0.0</td>\n",
       "      <td>0.0</td>\n",
       "      <td>0.0</td>\n",
       "      <td>0.0</td>\n",
       "      <td>0.0</td>\n",
       "    </tr>\n",
       "    <tr>\n",
       "      <th>4</th>\n",
       "      <td>318</td>\n",
       "      <td>8</td>\n",
       "      <td>12.500000</td>\n",
       "      <td>2.975786</td>\n",
       "      <td>1</td>\n",
       "      <td>0.003145</td>\n",
       "      <td>0.0</td>\n",
       "      <td>0.0</td>\n",
       "      <td>0.0</td>\n",
       "      <td>0.0</td>\n",
       "      <td>0.0</td>\n",
       "      <td>0.0</td>\n",
       "      <td>0.0</td>\n",
       "      <td>1.0</td>\n",
       "    </tr>\n",
       "    <tr>\n",
       "      <th>...</th>\n",
       "      <td>...</td>\n",
       "      <td>...</td>\n",
       "      <td>...</td>\n",
       "      <td>...</td>\n",
       "      <td>...</td>\n",
       "      <td>...</td>\n",
       "      <td>...</td>\n",
       "      <td>...</td>\n",
       "      <td>...</td>\n",
       "      <td>...</td>\n",
       "      <td>...</td>\n",
       "      <td>...</td>\n",
       "      <td>...</td>\n",
       "      <td>...</td>\n",
       "    </tr>\n",
       "    <tr>\n",
       "      <th>4505</th>\n",
       "      <td>154</td>\n",
       "      <td>10</td>\n",
       "      <td>0.000000</td>\n",
       "      <td>1.183117</td>\n",
       "      <td>0</td>\n",
       "      <td>0.000000</td>\n",
       "      <td>0.0</td>\n",
       "      <td>0.0</td>\n",
       "      <td>0.0</td>\n",
       "      <td>0.0</td>\n",
       "      <td>0.0</td>\n",
       "      <td>0.0</td>\n",
       "      <td>0.0</td>\n",
       "      <td>0.0</td>\n",
       "    </tr>\n",
       "    <tr>\n",
       "      <th>4506</th>\n",
       "      <td>178</td>\n",
       "      <td>12</td>\n",
       "      <td>0.000000</td>\n",
       "      <td>1.071910</td>\n",
       "      <td>0</td>\n",
       "      <td>0.000000</td>\n",
       "      <td>0.0</td>\n",
       "      <td>0.0</td>\n",
       "      <td>0.0</td>\n",
       "      <td>0.0</td>\n",
       "      <td>0.0</td>\n",
       "      <td>0.0</td>\n",
       "      <td>0.0</td>\n",
       "      <td>0.0</td>\n",
       "    </tr>\n",
       "    <tr>\n",
       "      <th>4507</th>\n",
       "      <td>213</td>\n",
       "      <td>14</td>\n",
       "      <td>0.000000</td>\n",
       "      <td>1.308920</td>\n",
       "      <td>0</td>\n",
       "      <td>0.000000</td>\n",
       "      <td>0.0</td>\n",
       "      <td>0.0</td>\n",
       "      <td>0.0</td>\n",
       "      <td>0.0</td>\n",
       "      <td>0.0</td>\n",
       "      <td>0.0</td>\n",
       "      <td>0.0</td>\n",
       "      <td>0.0</td>\n",
       "    </tr>\n",
       "    <tr>\n",
       "      <th>4508</th>\n",
       "      <td>386</td>\n",
       "      <td>22</td>\n",
       "      <td>0.000000</td>\n",
       "      <td>1.661140</td>\n",
       "      <td>0</td>\n",
       "      <td>0.000000</td>\n",
       "      <td>0.0</td>\n",
       "      <td>0.0</td>\n",
       "      <td>0.0</td>\n",
       "      <td>0.0</td>\n",
       "      <td>0.0</td>\n",
       "      <td>0.0</td>\n",
       "      <td>1.0</td>\n",
       "      <td>0.0</td>\n",
       "    </tr>\n",
       "    <tr>\n",
       "      <th>4509</th>\n",
       "      <td>7575</td>\n",
       "      <td>102</td>\n",
       "      <td>0.000000</td>\n",
       "      <td>2.003802</td>\n",
       "      <td>0</td>\n",
       "      <td>0.000000</td>\n",
       "      <td>0.0</td>\n",
       "      <td>0.0</td>\n",
       "      <td>0.0</td>\n",
       "      <td>0.0</td>\n",
       "      <td>0.0</td>\n",
       "      <td>0.0</td>\n",
       "      <td>1.0</td>\n",
       "      <td>0.0</td>\n",
       "    </tr>\n",
       "  </tbody>\n",
       "</table>\n",
       "<p>4510 rows × 14 columns</p>\n",
       "</div>"
      ],
      "text/plain": [
       "      Impressions  Clicks  Trans. Conv. %  Avg. Pos.  \\\n",
       "0              11       1      900.000000   1.272727   \n",
       "1               6       1      100.000000   1.000000   \n",
       "2               9       1      100.000000   1.111111   \n",
       "3             401      59        3.389831   2.000000   \n",
       "4             318       8       12.500000   2.975786   \n",
       "...           ...     ...             ...        ...   \n",
       "4505          154      10        0.000000   1.183117   \n",
       "4506          178      12        0.000000   1.071910   \n",
       "4507          213      14        0.000000   1.308920   \n",
       "4508          386      22        0.000000   1.661140   \n",
       "4509         7575     102        0.000000   2.003802   \n",
       "\n",
       "      Total Volume of Bookings  Probability of Booking  match_dum  pub_dum  \\\n",
       "0                            9                0.818182        0.0      0.0   \n",
       "1                            1                0.166667        0.0      0.0   \n",
       "2                            1                0.111111        1.0      0.0   \n",
       "3                            2                0.004988        0.0      0.0   \n",
       "4                            1                0.003145        0.0      0.0   \n",
       "...                        ...                     ...        ...      ...   \n",
       "4505                         0                0.000000        0.0      0.0   \n",
       "4506                         0                0.000000        0.0      0.0   \n",
       "4507                         0                0.000000        0.0      0.0   \n",
       "4508                         0                0.000000        0.0      0.0   \n",
       "4509                         0                0.000000        0.0      0.0   \n",
       "\n",
       "      camp_dum  keyword_dum  keygroup_dum  cat_dum  bids_dum  status_dum  \n",
       "0          0.0          0.0           0.0      0.0       0.0         0.0  \n",
       "1          0.0          0.0           0.0      0.0       0.0         1.0  \n",
       "2          0.0          0.0           0.0      0.0       0.0         0.0  \n",
       "3          0.0          0.0           0.0      0.0       0.0         0.0  \n",
       "4          0.0          0.0           0.0      0.0       0.0         1.0  \n",
       "...        ...          ...           ...      ...       ...         ...  \n",
       "4505       0.0          0.0           0.0      0.0       0.0         0.0  \n",
       "4506       0.0          0.0           0.0      0.0       0.0         0.0  \n",
       "4507       0.0          0.0           0.0      0.0       0.0         0.0  \n",
       "4508       0.0          0.0           0.0      0.0       1.0         0.0  \n",
       "4509       0.0          0.0           0.0      0.0       1.0         0.0  \n",
       "\n",
       "[4510 rows x 14 columns]"
      ]
     },
     "execution_count": 342,
     "metadata": {},
     "output_type": "execute_result"
    }
   ],
   "source": [
    "ivs"
   ]
  },
  {
   "cell_type": "code",
   "execution_count": 343,
   "metadata": {},
   "outputs": [],
   "source": [
    "from statsmodels.stats.outliers_influence import variance_inflation_factor\n",
    "vif = pd.DataFrame()\n",
    "vif['VIF'] = [variance_inflation_factor(ivs.values, i) for i in range(ivs.shape[1])]\n",
    "vif['Variables'] = ivs.columns"
   ]
  },
  {
   "cell_type": "code",
   "execution_count": 344,
   "metadata": {},
   "outputs": [
    {
     "data": {
      "text/plain": [
       "0     1.545985\n",
       "1     5.221115\n",
       "2     4.800386\n",
       "3     2.559130\n",
       "4     4.276550\n",
       "5     4.802101\n",
       "6     4.634093\n",
       "7     6.294649\n",
       "8     1.245148\n",
       "9     1.154698\n",
       "10    1.250266\n",
       "11    1.103863\n",
       "12    3.965733\n",
       "13    2.041628\n",
       "Name: VIF, dtype: float64"
      ]
     },
     "execution_count": 344,
     "metadata": {},
     "output_type": "execute_result"
    }
   ],
   "source": [
    "vif['VIF']"
   ]
  },
  {
   "cell_type": "code",
   "execution_count": 345,
   "metadata": {},
   "outputs": [
    {
     "data": {
      "text/plain": [
       "0                  Impressions\n",
       "1                       Clicks\n",
       "2               Trans. Conv. %\n",
       "3                    Avg. Pos.\n",
       "4     Total Volume of Bookings\n",
       "5       Probability of Booking\n",
       "6                    match_dum\n",
       "7                      pub_dum\n",
       "8                     camp_dum\n",
       "9                  keyword_dum\n",
       "10                keygroup_dum\n",
       "11                     cat_dum\n",
       "12                    bids_dum\n",
       "13                  status_dum\n",
       "Name: Variables, dtype: object"
      ]
     },
     "execution_count": 345,
     "metadata": {},
     "output_type": "execute_result"
    }
   ],
   "source": [
    "vif['Variables']"
   ]
  },
  {
   "cell_type": "markdown",
   "metadata": {},
   "source": [
    "### Regression Equation"
   ]
  },
  {
   "cell_type": "markdown",
   "metadata": {},
   "source": [
    "Determine what factors influence total cost "
   ]
  },
  {
   "cell_type": "code",
   "execution_count": 346,
   "metadata": {},
   "outputs": [],
   "source": [
    "import statsmodels.api as sm"
   ]
  },
  {
   "cell_type": "code",
   "execution_count": 347,
   "metadata": {},
   "outputs": [
    {
     "data": {
      "text/plain": [
       "Index(['Search Engine Bid', 'Clicks', 'Click Charges', 'Avg. Cost per Click',\n",
       "       'Impressions', 'Engine Click Thru %', 'Avg. Pos.', 'Trans. Conv. %',\n",
       "       'Total Cost/ Trans.', 'Amount', 'Total Cost',\n",
       "       'Total Volume of Bookings', 'Net Revenue', 'Probability of Booking',\n",
       "       'ROA', 'match_dum', 'pub_dum', 'camp_dum', 'keyword_dum',\n",
       "       'keygroup_dum', 'cat_dum', 'bids_dum', 'status_dum'],\n",
       "      dtype='object')"
      ]
     },
     "execution_count": 347,
     "metadata": {},
     "output_type": "execute_result"
    }
   ],
   "source": [
    "data.columns"
   ]
  },
  {
   "cell_type": "code",
   "execution_count": 348,
   "metadata": {},
   "outputs": [],
   "source": [
    "new_indepvar=sm.add_constant(data[['Impressions','Clicks','Trans. Conv. %', 'Avg. Pos.', 'Total Volume of Bookings','Probability of Booking','match_dum','pub_dum','camp_dum','keyword_dum','keygroup_dum','cat_dum','bids_dum','status_dum']])"
   ]
  },
  {
   "cell_type": "code",
   "execution_count": 349,
   "metadata": {},
   "outputs": [],
   "source": [
    "#create the model\n",
    "#Total Cost is DV\n",
    "mod=sm.OLS(data[\"Total Cost\"],new_indepvar)"
   ]
  },
  {
   "cell_type": "code",
   "execution_count": 350,
   "metadata": {},
   "outputs": [],
   "source": [
    "# fit data into the model\n",
    "res=mod.fit()"
   ]
  },
  {
   "cell_type": "code",
   "execution_count": 351,
   "metadata": {
    "scrolled": true
   },
   "outputs": [
    {
     "name": "stdout",
     "output_type": "stream",
     "text": [
      "                            OLS Regression Results                            \n",
      "==============================================================================\n",
      "Dep. Variable:             Total Cost   R-squared:                       0.865\n",
      "Model:                            OLS   Adj. R-squared:                  0.864\n",
      "Method:                 Least Squares   F-statistic:                     2053.\n",
      "Date:                Wed, 05 May 2021   Prob (F-statistic):               0.00\n",
      "Time:                        19:36:29   Log-Likelihood:                -34369.\n",
      "No. Observations:                4510   AIC:                         6.877e+04\n",
      "Df Residuals:                    4495   BIC:                         6.886e+04\n",
      "Df Model:                          14                                         \n",
      "Covariance Type:            nonrobust                                         \n",
      "============================================================================================\n",
      "                               coef    std err          t      P>|t|      [0.025      0.975]\n",
      "--------------------------------------------------------------------------------------------\n",
      "const                      -32.4498     21.875     -1.483      0.138     -75.337      10.437\n",
      "Impressions                 -0.0005   5.39e-05    -10.017      0.000      -0.001      -0.000\n",
      "Clicks                       1.7756      0.016    112.794      0.000       1.745       1.806\n",
      "Trans. Conv. %               1.0579      1.163      0.910      0.363      -1.222       3.338\n",
      "Avg. Pos.                    3.7699      7.089      0.532      0.595     -10.128      17.668\n",
      "Total Volume of Bookings   -70.4944      1.254    -56.235      0.000     -72.952     -68.037\n",
      "Probability of Booking    -247.0478   1063.926     -0.232      0.816   -2332.866    1838.771\n",
      "match_dum                  130.5588     24.282      5.377      0.000      82.953     178.164\n",
      "pub_dum                     -5.1516     27.551     -0.187      0.852     -59.166      48.863\n",
      "camp_dum                   326.4621     65.303      4.999      0.000     198.436     454.488\n",
      "keyword_dum               1616.1791    177.096      9.126      0.000    1268.983    1963.375\n",
      "keygroup_dum              -182.2812     70.241     -2.595      0.009    -319.989     -44.574\n",
      "cat_dum                   -582.3154    149.957     -3.883      0.000    -876.305    -288.326\n",
      "bids_dum                   -64.8467     20.956     -3.094      0.002    -105.931     -23.762\n",
      "status_dum                  20.4183     16.292      1.253      0.210     -11.521      52.358\n",
      "==============================================================================\n",
      "Omnibus:                     6674.328   Durbin-Watson:                   1.821\n",
      "Prob(Omnibus):                  0.000   Jarque-Bera (JB):         25672355.451\n",
      "Skew:                           8.020   Prob(JB):                         0.00\n",
      "Kurtosis:                     372.267   Cond. No.                     2.46e+07\n",
      "==============================================================================\n",
      "\n",
      "Warnings:\n",
      "[1] Standard Errors assume that the covariance matrix of the errors is correctly specified.\n",
      "[2] The condition number is large, 2.46e+07. This might indicate that there are\n",
      "strong multicollinearity or other numerical problems.\n"
     ]
    }
   ],
   "source": [
    "#print out result summary\n",
    "print(res.summary())"
   ]
  },
  {
   "cell_type": "markdown",
   "metadata": {},
   "source": [
    "Total Cost = -0.0005 Impressions +  1.7756 Clicks -70.4944 Total Volume of Bookings + 130.5588 match_dum + 326.4621 camp_dum + 1616.1791 keyword_dum -582.3154 cat_dum -64.8467 bids_dum\n",
    "\n",
    "\n",
    "Interpretation of Results:\n",
    "\n",
    "Impressions has a negative weak relationship with Total Cost. When there is one more impression, total cost will slightly decrease. This could be because impressions could be sold in bulk. This could cause a very loose decrease in total cost for the provider. \n",
    "\n",
    "Clicks has a positive relationship with Total Cost. When there is one more click, the total cost will increase. If the advertiser is only paying for the ads that were clicked, the total cost could slightly increase for the publisher. \n",
    "o\tTotal Volume of Bookings has strong negative relationship with Total Cost. When the volume of bookings increases by one unit, the total cost will decrease by 70. This is likely due to bulk purchases that often include a discount in total price paid to the advertiser.\n",
    "\n",
    "Type of match (match_dum) has a strong positive relationship with Total Cost. When the type of match is broad, the total cost will increase by $130. This indicates it is more expensive for the advertiser to use a broad word search on advertisements. Even though a lot of people may click on the advertisement, it will not produce the desired results because the click will not compare to the specific transaction.\n",
    "\n",
    "Campaign has a strong positive relationship with Total Cost. When campaign is Air France branded, the total cost will increase by $296.51. This could be due to the fact that when a customer clicks directly on an Air France advertisement making it a more efficient transaction but more costly for advertisers who are paying based on the ads that are clicked.\n",
    "\n",
    "Keyword: Keyword has a strong positive relationship with total cost. When the keyword is “Air France”, the total cost will increase by about $1616.18. This could be due to the fact that purchasers are routed more directly to the page/transaction they are looking for. Similar to the Campaign variable above, although it is cost effective for the purchaser, it is more costly for the advertisers who pay based on clicked ads, which are reduced when there is a more direct pathway.\n",
    "\n",
    "Category: has a strong negative relationship with total cost. When the category is “Airline”, the total cost will decrease about $582.32. Based on the bar chart results in the exploratory data analysis, we can see that because Airline is an “exact” term, price will decrease dramatically.\n",
    "\n",
    "Bids has a strong negative relationship with total cost. When the bid is “Position 5-10 Bid Strategy”, the total cost will decrease by about $64.85. The total cost will decrease because the advertisement is less likely to be clicked in comparison to the advertisements in the 1st through 4th position.\n",
    "\n",
    "\n",
    "Keyword, Category and Campaign are the best predictors of total cost because the magnitude of all of them is greater than 300.\n",
    "\n",
    "\n",
    "Suggestion: We suggest that Air France use Google to increase their share in the competitive US markets because Google performed the best of all providers. We recommend that their strategy should be to have a key word of “Air France”, a category of “Airlines” and advertisements populating in a bid position between 5 and 10.\n",
    "\n"
   ]
  }
 ],
 "metadata": {
  "kernelspec": {
   "display_name": "Python 3",
   "language": "python",
   "name": "python3"
  },
  "language_info": {
   "codemirror_mode": {
    "name": "ipython",
    "version": 3
   },
   "file_extension": ".py",
   "mimetype": "text/x-python",
   "name": "python",
   "nbconvert_exporter": "python",
   "pygments_lexer": "ipython3",
   "version": "3.8.3"
  }
 },
 "nbformat": 4,
 "nbformat_minor": 4
}
